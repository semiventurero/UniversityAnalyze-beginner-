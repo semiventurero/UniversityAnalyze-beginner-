{
 "cells": [
  {
   "cell_type": "markdown",
   "metadata": {},
   "source": [
    "# Kütüphaneleri yüklüyorum"
   ]
  },
  {
   "cell_type": "code",
   "execution_count": 87,
   "metadata": {},
   "outputs": [],
   "source": [
    "import matplotlib.pyplot as plt"
   ]
  },
  {
   "cell_type": "code",
   "execution_count": 89,
   "metadata": {},
   "outputs": [],
   "source": [
    "import pandas as pd\n",
    "import numpy as np\n",
    "from pandas import DataFrame\n",
    "import seaborn as sns\n",
    "\n"
   ]
  },
  {
   "cell_type": "code",
   "execution_count": 90,
   "metadata": {},
   "outputs": [
    {
     "data": {
      "text/plain": [
       "<module 'numpy' from 'C:\\\\Anaconda3\\\\envs\\\\env2\\\\lib\\\\site-packages\\\\numpy\\\\__init__.py'>"
      ]
     },
     "execution_count": 90,
     "metadata": {},
     "output_type": "execute_result"
    }
   ],
   "source": [
    "np"
   ]
  },
  {
   "cell_type": "code",
   "execution_count": 91,
   "metadata": {},
   "outputs": [
    {
     "data": {
      "text/plain": [
       "<module 'seaborn' from 'C:\\\\Anaconda3\\\\envs\\\\env2\\\\lib\\\\site-packages\\\\seaborn\\\\__init__.py'>"
      ]
     },
     "execution_count": 91,
     "metadata": {},
     "output_type": "execute_result"
    }
   ],
   "source": [
    "sns"
   ]
  },
  {
   "cell_type": "code",
   "execution_count": 92,
   "metadata": {},
   "outputs": [],
   "source": [
    "from pandas.api.types import CategoricalDtype\n",
    "import plotly.graph_objs as go\n",
    "from plotly.offline import iplot\n",
    "from wordcloud import WordCloud \n",
    "from matplotlib import rcParams"
   ]
  },
  {
   "cell_type": "code",
   "execution_count": 93,
   "metadata": {},
   "outputs": [],
   "source": [
    "#datayı tanımlıyorum, data klasörünün altındaki timesData.csv'yi alıyorum"
   ]
  },
  {
   "cell_type": "code",
   "execution_count": 94,
   "metadata": {},
   "outputs": [],
   "source": [
    "df = pd.read_csv(\"data/timesData.csv\")"
   ]
  },
  {
   "cell_type": "code",
   "execution_count": 95,
   "metadata": {},
   "outputs": [],
   "source": [
    "#boyut"
   ]
  },
  {
   "cell_type": "code",
   "execution_count": 96,
   "metadata": {},
   "outputs": [
    {
     "data": {
      "text/plain": [
       "(2603, 14)"
      ]
     },
     "execution_count": 96,
     "metadata": {},
     "output_type": "execute_result"
    }
   ],
   "source": [
    "df.shape"
   ]
  },
  {
   "cell_type": "code",
   "execution_count": 97,
   "metadata": {},
   "outputs": [],
   "source": [
    "#bilgi"
   ]
  },
  {
   "cell_type": "code",
   "execution_count": 98,
   "metadata": {},
   "outputs": [
    {
     "data": {
      "text/plain": [
       "<bound method DataFrame.info of      world_rank                        university_name  \\\n",
       "0             1                     Harvard University   \n",
       "1             2     California Institute of Technology   \n",
       "2             3  Massachusetts Institute of Technology   \n",
       "3             4                    Stanford University   \n",
       "4             5                   Princeton University   \n",
       "...         ...                                    ...   \n",
       "2598    601-800                    Yeungnam University   \n",
       "2599    601-800            Yıldız Technical University   \n",
       "2600    601-800               Yokohama City University   \n",
       "2601    601-800           Yokohama National University   \n",
       "2602    601-800                     Yuan Ze University   \n",
       "\n",
       "                       country  teaching international  research  citations  \\\n",
       "0     United States of America      99.7          72.4      98.7       98.8   \n",
       "1     United States of America      97.7          54.6      98.0       99.9   \n",
       "2     United States of America      97.8          82.3      91.4       99.9   \n",
       "3     United States of America      98.3          29.5      98.1       99.2   \n",
       "4     United States of America      90.9          70.3      95.4       99.9   \n",
       "...                        ...       ...           ...       ...        ...   \n",
       "2598               South Korea      18.6          24.3      10.9       26.5   \n",
       "2599                    Turkey      14.5          14.9       7.6       19.3   \n",
       "2600                     Japan      24.0          16.1      10.2       36.4   \n",
       "2601                     Japan      20.1          23.3      16.0       13.5   \n",
       "2602                    Taiwan      16.2          17.7      18.3       28.6   \n",
       "\n",
       "     income total_score num_students  student_staff_ratio  \\\n",
       "0      34.5        96.1       20,152                  8.9   \n",
       "1      83.7        96.0        2,243                  6.9   \n",
       "2      87.5        95.6       11,074                  9.0   \n",
       "3      64.3        94.3       15,596                  7.8   \n",
       "4         -        94.2        7,929                  8.4   \n",
       "...     ...         ...          ...                  ...   \n",
       "2598   35.4           -       21,958                 15.3   \n",
       "2599   44.0           -       31,268                 28.7   \n",
       "2600   37.9           -        4,122                  3.7   \n",
       "2601   40.4           -       10,117                 12.1   \n",
       "2602   39.8           -        8,663                 20.6   \n",
       "\n",
       "     international_students female_male_ratio  year  \n",
       "0                       25%               NaN  2011  \n",
       "1                       27%           33 : 67  2011  \n",
       "2                       33%           37 : 63  2011  \n",
       "3                       22%           42 : 58  2011  \n",
       "4                       27%           45 : 55  2011  \n",
       "...                     ...               ...   ...  \n",
       "2598                     3%           48 : 52  2016  \n",
       "2599                     2%           36 : 64  2016  \n",
       "2600                     3%               NaN  2016  \n",
       "2601                     8%           28 : 72  2016  \n",
       "2602                     4%           43 : 57  2016  \n",
       "\n",
       "[2603 rows x 14 columns]>"
      ]
     },
     "execution_count": 98,
     "metadata": {},
     "output_type": "execute_result"
    }
   ],
   "source": [
    "df.info"
   ]
  },
  {
   "cell_type": "code",
   "execution_count": 99,
   "metadata": {},
   "outputs": [],
   "source": [
    "#veri tiplerine bakıyorum"
   ]
  },
  {
   "cell_type": "code",
   "execution_count": 100,
   "metadata": {},
   "outputs": [
    {
     "data": {
      "text/plain": [
       "world_rank                 object\n",
       "university_name            object\n",
       "country                    object\n",
       "teaching                  float64\n",
       "international              object\n",
       "research                  float64\n",
       "citations                 float64\n",
       "income                     object\n",
       "total_score                object\n",
       "num_students               object\n",
       "student_staff_ratio       float64\n",
       "international_students     object\n",
       "female_male_ratio          object\n",
       "year                        int64\n",
       "dtype: object"
      ]
     },
     "execution_count": 100,
     "metadata": {},
     "output_type": "execute_result"
    }
   ],
   "source": [
    "df.dtypes"
   ]
  },
  {
   "cell_type": "code",
   "execution_count": 101,
   "metadata": {},
   "outputs": [],
   "source": [
    "#ilk 5 satır"
   ]
  },
  {
   "cell_type": "code",
   "execution_count": 102,
   "metadata": {},
   "outputs": [
    {
     "data": {
      "text/html": [
       "<div>\n",
       "<style scoped>\n",
       "    .dataframe tbody tr th:only-of-type {\n",
       "        vertical-align: middle;\n",
       "    }\n",
       "\n",
       "    .dataframe tbody tr th {\n",
       "        vertical-align: top;\n",
       "    }\n",
       "\n",
       "    .dataframe thead th {\n",
       "        text-align: right;\n",
       "    }\n",
       "</style>\n",
       "<table border=\"1\" class=\"dataframe\">\n",
       "  <thead>\n",
       "    <tr style=\"text-align: right;\">\n",
       "      <th></th>\n",
       "      <th>world_rank</th>\n",
       "      <th>university_name</th>\n",
       "      <th>country</th>\n",
       "      <th>teaching</th>\n",
       "      <th>international</th>\n",
       "      <th>research</th>\n",
       "      <th>citations</th>\n",
       "      <th>income</th>\n",
       "      <th>total_score</th>\n",
       "      <th>num_students</th>\n",
       "      <th>student_staff_ratio</th>\n",
       "      <th>international_students</th>\n",
       "      <th>female_male_ratio</th>\n",
       "      <th>year</th>\n",
       "    </tr>\n",
       "  </thead>\n",
       "  <tbody>\n",
       "    <tr>\n",
       "      <th>0</th>\n",
       "      <td>1</td>\n",
       "      <td>Harvard University</td>\n",
       "      <td>United States of America</td>\n",
       "      <td>99.7</td>\n",
       "      <td>72.4</td>\n",
       "      <td>98.7</td>\n",
       "      <td>98.8</td>\n",
       "      <td>34.5</td>\n",
       "      <td>96.1</td>\n",
       "      <td>20,152</td>\n",
       "      <td>8.9</td>\n",
       "      <td>25%</td>\n",
       "      <td>NaN</td>\n",
       "      <td>2011</td>\n",
       "    </tr>\n",
       "    <tr>\n",
       "      <th>1</th>\n",
       "      <td>2</td>\n",
       "      <td>California Institute of Technology</td>\n",
       "      <td>United States of America</td>\n",
       "      <td>97.7</td>\n",
       "      <td>54.6</td>\n",
       "      <td>98.0</td>\n",
       "      <td>99.9</td>\n",
       "      <td>83.7</td>\n",
       "      <td>96.0</td>\n",
       "      <td>2,243</td>\n",
       "      <td>6.9</td>\n",
       "      <td>27%</td>\n",
       "      <td>33 : 67</td>\n",
       "      <td>2011</td>\n",
       "    </tr>\n",
       "    <tr>\n",
       "      <th>2</th>\n",
       "      <td>3</td>\n",
       "      <td>Massachusetts Institute of Technology</td>\n",
       "      <td>United States of America</td>\n",
       "      <td>97.8</td>\n",
       "      <td>82.3</td>\n",
       "      <td>91.4</td>\n",
       "      <td>99.9</td>\n",
       "      <td>87.5</td>\n",
       "      <td>95.6</td>\n",
       "      <td>11,074</td>\n",
       "      <td>9.0</td>\n",
       "      <td>33%</td>\n",
       "      <td>37 : 63</td>\n",
       "      <td>2011</td>\n",
       "    </tr>\n",
       "    <tr>\n",
       "      <th>3</th>\n",
       "      <td>4</td>\n",
       "      <td>Stanford University</td>\n",
       "      <td>United States of America</td>\n",
       "      <td>98.3</td>\n",
       "      <td>29.5</td>\n",
       "      <td>98.1</td>\n",
       "      <td>99.2</td>\n",
       "      <td>64.3</td>\n",
       "      <td>94.3</td>\n",
       "      <td>15,596</td>\n",
       "      <td>7.8</td>\n",
       "      <td>22%</td>\n",
       "      <td>42 : 58</td>\n",
       "      <td>2011</td>\n",
       "    </tr>\n",
       "    <tr>\n",
       "      <th>4</th>\n",
       "      <td>5</td>\n",
       "      <td>Princeton University</td>\n",
       "      <td>United States of America</td>\n",
       "      <td>90.9</td>\n",
       "      <td>70.3</td>\n",
       "      <td>95.4</td>\n",
       "      <td>99.9</td>\n",
       "      <td>-</td>\n",
       "      <td>94.2</td>\n",
       "      <td>7,929</td>\n",
       "      <td>8.4</td>\n",
       "      <td>27%</td>\n",
       "      <td>45 : 55</td>\n",
       "      <td>2011</td>\n",
       "    </tr>\n",
       "  </tbody>\n",
       "</table>\n",
       "</div>"
      ],
      "text/plain": [
       "  world_rank                        university_name                   country  \\\n",
       "0          1                     Harvard University  United States of America   \n",
       "1          2     California Institute of Technology  United States of America   \n",
       "2          3  Massachusetts Institute of Technology  United States of America   \n",
       "3          4                    Stanford University  United States of America   \n",
       "4          5                   Princeton University  United States of America   \n",
       "\n",
       "   teaching international  research  citations income total_score  \\\n",
       "0      99.7          72.4      98.7       98.8   34.5        96.1   \n",
       "1      97.7          54.6      98.0       99.9   83.7        96.0   \n",
       "2      97.8          82.3      91.4       99.9   87.5        95.6   \n",
       "3      98.3          29.5      98.1       99.2   64.3        94.3   \n",
       "4      90.9          70.3      95.4       99.9      -        94.2   \n",
       "\n",
       "  num_students  student_staff_ratio international_students female_male_ratio  \\\n",
       "0       20,152                  8.9                    25%               NaN   \n",
       "1        2,243                  6.9                    27%           33 : 67   \n",
       "2       11,074                  9.0                    33%           37 : 63   \n",
       "3       15,596                  7.8                    22%           42 : 58   \n",
       "4        7,929                  8.4                    27%           45 : 55   \n",
       "\n",
       "   year  \n",
       "0  2011  \n",
       "1  2011  \n",
       "2  2011  \n",
       "3  2011  \n",
       "4  2011  "
      ]
     },
     "execution_count": 102,
     "metadata": {},
     "output_type": "execute_result"
    }
   ],
   "source": [
    "df.head(5)"
   ]
  },
  {
   "cell_type": "code",
   "execution_count": 103,
   "metadata": {},
   "outputs": [],
   "source": [
    "#son 5 satır"
   ]
  },
  {
   "cell_type": "code",
   "execution_count": 104,
   "metadata": {},
   "outputs": [
    {
     "data": {
      "text/html": [
       "<div>\n",
       "<style scoped>\n",
       "    .dataframe tbody tr th:only-of-type {\n",
       "        vertical-align: middle;\n",
       "    }\n",
       "\n",
       "    .dataframe tbody tr th {\n",
       "        vertical-align: top;\n",
       "    }\n",
       "\n",
       "    .dataframe thead th {\n",
       "        text-align: right;\n",
       "    }\n",
       "</style>\n",
       "<table border=\"1\" class=\"dataframe\">\n",
       "  <thead>\n",
       "    <tr style=\"text-align: right;\">\n",
       "      <th></th>\n",
       "      <th>world_rank</th>\n",
       "      <th>university_name</th>\n",
       "      <th>country</th>\n",
       "      <th>teaching</th>\n",
       "      <th>international</th>\n",
       "      <th>research</th>\n",
       "      <th>citations</th>\n",
       "      <th>income</th>\n",
       "      <th>total_score</th>\n",
       "      <th>num_students</th>\n",
       "      <th>student_staff_ratio</th>\n",
       "      <th>international_students</th>\n",
       "      <th>female_male_ratio</th>\n",
       "      <th>year</th>\n",
       "    </tr>\n",
       "  </thead>\n",
       "  <tbody>\n",
       "    <tr>\n",
       "      <th>2598</th>\n",
       "      <td>601-800</td>\n",
       "      <td>Yeungnam University</td>\n",
       "      <td>South Korea</td>\n",
       "      <td>18.6</td>\n",
       "      <td>24.3</td>\n",
       "      <td>10.9</td>\n",
       "      <td>26.5</td>\n",
       "      <td>35.4</td>\n",
       "      <td>-</td>\n",
       "      <td>21,958</td>\n",
       "      <td>15.3</td>\n",
       "      <td>3%</td>\n",
       "      <td>48 : 52</td>\n",
       "      <td>2016</td>\n",
       "    </tr>\n",
       "    <tr>\n",
       "      <th>2599</th>\n",
       "      <td>601-800</td>\n",
       "      <td>Yıldız Technical University</td>\n",
       "      <td>Turkey</td>\n",
       "      <td>14.5</td>\n",
       "      <td>14.9</td>\n",
       "      <td>7.6</td>\n",
       "      <td>19.3</td>\n",
       "      <td>44.0</td>\n",
       "      <td>-</td>\n",
       "      <td>31,268</td>\n",
       "      <td>28.7</td>\n",
       "      <td>2%</td>\n",
       "      <td>36 : 64</td>\n",
       "      <td>2016</td>\n",
       "    </tr>\n",
       "    <tr>\n",
       "      <th>2600</th>\n",
       "      <td>601-800</td>\n",
       "      <td>Yokohama City University</td>\n",
       "      <td>Japan</td>\n",
       "      <td>24.0</td>\n",
       "      <td>16.1</td>\n",
       "      <td>10.2</td>\n",
       "      <td>36.4</td>\n",
       "      <td>37.9</td>\n",
       "      <td>-</td>\n",
       "      <td>4,122</td>\n",
       "      <td>3.7</td>\n",
       "      <td>3%</td>\n",
       "      <td>NaN</td>\n",
       "      <td>2016</td>\n",
       "    </tr>\n",
       "    <tr>\n",
       "      <th>2601</th>\n",
       "      <td>601-800</td>\n",
       "      <td>Yokohama National University</td>\n",
       "      <td>Japan</td>\n",
       "      <td>20.1</td>\n",
       "      <td>23.3</td>\n",
       "      <td>16.0</td>\n",
       "      <td>13.5</td>\n",
       "      <td>40.4</td>\n",
       "      <td>-</td>\n",
       "      <td>10,117</td>\n",
       "      <td>12.1</td>\n",
       "      <td>8%</td>\n",
       "      <td>28 : 72</td>\n",
       "      <td>2016</td>\n",
       "    </tr>\n",
       "    <tr>\n",
       "      <th>2602</th>\n",
       "      <td>601-800</td>\n",
       "      <td>Yuan Ze University</td>\n",
       "      <td>Taiwan</td>\n",
       "      <td>16.2</td>\n",
       "      <td>17.7</td>\n",
       "      <td>18.3</td>\n",
       "      <td>28.6</td>\n",
       "      <td>39.8</td>\n",
       "      <td>-</td>\n",
       "      <td>8,663</td>\n",
       "      <td>20.6</td>\n",
       "      <td>4%</td>\n",
       "      <td>43 : 57</td>\n",
       "      <td>2016</td>\n",
       "    </tr>\n",
       "  </tbody>\n",
       "</table>\n",
       "</div>"
      ],
      "text/plain": [
       "     world_rank               university_name      country  teaching  \\\n",
       "2598    601-800           Yeungnam University  South Korea      18.6   \n",
       "2599    601-800   Yıldız Technical University       Turkey      14.5   \n",
       "2600    601-800      Yokohama City University        Japan      24.0   \n",
       "2601    601-800  Yokohama National University        Japan      20.1   \n",
       "2602    601-800            Yuan Ze University       Taiwan      16.2   \n",
       "\n",
       "     international  research  citations income total_score num_students  \\\n",
       "2598          24.3      10.9       26.5   35.4           -       21,958   \n",
       "2599          14.9       7.6       19.3   44.0           -       31,268   \n",
       "2600          16.1      10.2       36.4   37.9           -        4,122   \n",
       "2601          23.3      16.0       13.5   40.4           -       10,117   \n",
       "2602          17.7      18.3       28.6   39.8           -        8,663   \n",
       "\n",
       "      student_staff_ratio international_students female_male_ratio  year  \n",
       "2598                 15.3                     3%           48 : 52  2016  \n",
       "2599                 28.7                     2%           36 : 64  2016  \n",
       "2600                  3.7                     3%               NaN  2016  \n",
       "2601                 12.1                     8%           28 : 72  2016  \n",
       "2602                 20.6                     4%           43 : 57  2016  "
      ]
     },
     "execution_count": 104,
     "metadata": {},
     "output_type": "execute_result"
    }
   ],
   "source": [
    "df.tail(5)"
   ]
  },
  {
   "cell_type": "code",
   "execution_count": 105,
   "metadata": {},
   "outputs": [],
   "source": [
    "#sütunların isimlerini gösteriyorum"
   ]
  },
  {
   "cell_type": "code",
   "execution_count": 106,
   "metadata": {},
   "outputs": [
    {
     "data": {
      "text/plain": [
       "Index(['world_rank', 'university_name', 'country', 'teaching', 'international',\n",
       "       'research', 'citations', 'income', 'total_score', 'num_students',\n",
       "       'student_staff_ratio', 'international_students', 'female_male_ratio',\n",
       "       'year'],\n",
       "      dtype='object')"
      ]
     },
     "execution_count": 106,
     "metadata": {},
     "output_type": "execute_result"
    }
   ],
   "source": [
    "df.columns"
   ]
  },
  {
   "cell_type": "code",
   "execution_count": 107,
   "metadata": {},
   "outputs": [
    {
     "data": {
      "text/html": [
       "<div>\n",
       "<style scoped>\n",
       "    .dataframe tbody tr th:only-of-type {\n",
       "        vertical-align: middle;\n",
       "    }\n",
       "\n",
       "    .dataframe tbody tr th {\n",
       "        vertical-align: top;\n",
       "    }\n",
       "\n",
       "    .dataframe thead th {\n",
       "        text-align: right;\n",
       "    }\n",
       "</style>\n",
       "<table border=\"1\" class=\"dataframe\">\n",
       "  <thead>\n",
       "    <tr style=\"text-align: right;\">\n",
       "      <th></th>\n",
       "      <th>count</th>\n",
       "      <th>mean</th>\n",
       "      <th>std</th>\n",
       "      <th>min</th>\n",
       "      <th>25%</th>\n",
       "      <th>50%</th>\n",
       "      <th>75%</th>\n",
       "      <th>max</th>\n",
       "    </tr>\n",
       "  </thead>\n",
       "  <tbody>\n",
       "    <tr>\n",
       "      <th>teaching</th>\n",
       "      <td>2603.0</td>\n",
       "      <td>37.801498</td>\n",
       "      <td>17.604218</td>\n",
       "      <td>9.9</td>\n",
       "      <td>24.700</td>\n",
       "      <td>33.9</td>\n",
       "      <td>46.40</td>\n",
       "      <td>99.7</td>\n",
       "    </tr>\n",
       "    <tr>\n",
       "      <th>research</th>\n",
       "      <td>2603.0</td>\n",
       "      <td>35.910257</td>\n",
       "      <td>21.254805</td>\n",
       "      <td>2.9</td>\n",
       "      <td>19.600</td>\n",
       "      <td>30.5</td>\n",
       "      <td>47.25</td>\n",
       "      <td>99.4</td>\n",
       "    </tr>\n",
       "    <tr>\n",
       "      <th>citations</th>\n",
       "      <td>2603.0</td>\n",
       "      <td>60.921629</td>\n",
       "      <td>23.073219</td>\n",
       "      <td>1.2</td>\n",
       "      <td>45.500</td>\n",
       "      <td>62.5</td>\n",
       "      <td>79.05</td>\n",
       "      <td>100.0</td>\n",
       "    </tr>\n",
       "    <tr>\n",
       "      <th>student_staff_ratio</th>\n",
       "      <td>2544.0</td>\n",
       "      <td>18.445283</td>\n",
       "      <td>11.458698</td>\n",
       "      <td>0.6</td>\n",
       "      <td>11.975</td>\n",
       "      <td>16.1</td>\n",
       "      <td>21.50</td>\n",
       "      <td>162.6</td>\n",
       "    </tr>\n",
       "    <tr>\n",
       "      <th>year</th>\n",
       "      <td>2603.0</td>\n",
       "      <td>2014.075682</td>\n",
       "      <td>1.685733</td>\n",
       "      <td>2011.0</td>\n",
       "      <td>2013.000</td>\n",
       "      <td>2014.0</td>\n",
       "      <td>2016.00</td>\n",
       "      <td>2016.0</td>\n",
       "    </tr>\n",
       "  </tbody>\n",
       "</table>\n",
       "</div>"
      ],
      "text/plain": [
       "                      count         mean        std     min       25%     50%  \\\n",
       "teaching             2603.0    37.801498  17.604218     9.9    24.700    33.9   \n",
       "research             2603.0    35.910257  21.254805     2.9    19.600    30.5   \n",
       "citations            2603.0    60.921629  23.073219     1.2    45.500    62.5   \n",
       "student_staff_ratio  2544.0    18.445283  11.458698     0.6    11.975    16.1   \n",
       "year                 2603.0  2014.075682   1.685733  2011.0  2013.000  2014.0   \n",
       "\n",
       "                         75%     max  \n",
       "teaching               46.40    99.7  \n",
       "research               47.25    99.4  \n",
       "citations              79.05   100.0  \n",
       "student_staff_ratio    21.50   162.6  \n",
       "year                 2016.00  2016.0  "
      ]
     },
     "execution_count": 107,
     "metadata": {},
     "output_type": "execute_result"
    }
   ],
   "source": [
    "df.describe().T#Eksik gözlemleri göz ardı eder"
   ]
  },
  {
   "cell_type": "code",
   "execution_count": 108,
   "metadata": {},
   "outputs": [
    {
     "data": {
      "text/html": [
       "<div>\n",
       "<style scoped>\n",
       "    .dataframe tbody tr th:only-of-type {\n",
       "        vertical-align: middle;\n",
       "    }\n",
       "\n",
       "    .dataframe tbody tr th {\n",
       "        vertical-align: top;\n",
       "    }\n",
       "\n",
       "    .dataframe thead th {\n",
       "        text-align: right;\n",
       "    }\n",
       "</style>\n",
       "<table border=\"1\" class=\"dataframe\">\n",
       "  <thead>\n",
       "    <tr style=\"text-align: right;\">\n",
       "      <th></th>\n",
       "      <th>world_rank</th>\n",
       "      <th>university_name</th>\n",
       "      <th>country</th>\n",
       "      <th>teaching</th>\n",
       "      <th>international</th>\n",
       "      <th>research</th>\n",
       "      <th>citations</th>\n",
       "      <th>income</th>\n",
       "      <th>total_score</th>\n",
       "      <th>num_students</th>\n",
       "      <th>student_staff_ratio</th>\n",
       "      <th>international_students</th>\n",
       "      <th>female_male_ratio</th>\n",
       "      <th>year</th>\n",
       "    </tr>\n",
       "  </thead>\n",
       "  <tbody>\n",
       "    <tr>\n",
       "      <th>count</th>\n",
       "      <td>2603</td>\n",
       "      <td>2603</td>\n",
       "      <td>2603</td>\n",
       "      <td>2603.000000</td>\n",
       "      <td>2603</td>\n",
       "      <td>2603.000000</td>\n",
       "      <td>2603.000000</td>\n",
       "      <td>2603</td>\n",
       "      <td>2603</td>\n",
       "      <td>2544</td>\n",
       "      <td>2544.000000</td>\n",
       "      <td>2536</td>\n",
       "      <td>2370</td>\n",
       "      <td>2603.000000</td>\n",
       "    </tr>\n",
       "    <tr>\n",
       "      <th>unique</th>\n",
       "      <td>250</td>\n",
       "      <td>818</td>\n",
       "      <td>72</td>\n",
       "      <td>NaN</td>\n",
       "      <td>804</td>\n",
       "      <td>NaN</td>\n",
       "      <td>NaN</td>\n",
       "      <td>613</td>\n",
       "      <td>415</td>\n",
       "      <td>794</td>\n",
       "      <td>NaN</td>\n",
       "      <td>53</td>\n",
       "      <td>69</td>\n",
       "      <td>NaN</td>\n",
       "    </tr>\n",
       "    <tr>\n",
       "      <th>top</th>\n",
       "      <td>301-350</td>\n",
       "      <td>Pohang University of Science and Technology</td>\n",
       "      <td>United States of America</td>\n",
       "      <td>NaN</td>\n",
       "      <td>20.7</td>\n",
       "      <td>NaN</td>\n",
       "      <td>NaN</td>\n",
       "      <td>-</td>\n",
       "      <td>-</td>\n",
       "      <td>28,881</td>\n",
       "      <td>NaN</td>\n",
       "      <td>7%</td>\n",
       "      <td>54 : 46</td>\n",
       "      <td>NaN</td>\n",
       "    </tr>\n",
       "    <tr>\n",
       "      <th>freq</th>\n",
       "      <td>248</td>\n",
       "      <td>6</td>\n",
       "      <td>659</td>\n",
       "      <td>NaN</td>\n",
       "      <td>10</td>\n",
       "      <td>NaN</td>\n",
       "      <td>NaN</td>\n",
       "      <td>218</td>\n",
       "      <td>1402</td>\n",
       "      <td>6</td>\n",
       "      <td>NaN</td>\n",
       "      <td>142</td>\n",
       "      <td>185</td>\n",
       "      <td>NaN</td>\n",
       "    </tr>\n",
       "    <tr>\n",
       "      <th>mean</th>\n",
       "      <td>NaN</td>\n",
       "      <td>NaN</td>\n",
       "      <td>NaN</td>\n",
       "      <td>37.801498</td>\n",
       "      <td>NaN</td>\n",
       "      <td>35.910257</td>\n",
       "      <td>60.921629</td>\n",
       "      <td>NaN</td>\n",
       "      <td>NaN</td>\n",
       "      <td>NaN</td>\n",
       "      <td>18.445283</td>\n",
       "      <td>NaN</td>\n",
       "      <td>NaN</td>\n",
       "      <td>2014.075682</td>\n",
       "    </tr>\n",
       "    <tr>\n",
       "      <th>std</th>\n",
       "      <td>NaN</td>\n",
       "      <td>NaN</td>\n",
       "      <td>NaN</td>\n",
       "      <td>17.604218</td>\n",
       "      <td>NaN</td>\n",
       "      <td>21.254805</td>\n",
       "      <td>23.073219</td>\n",
       "      <td>NaN</td>\n",
       "      <td>NaN</td>\n",
       "      <td>NaN</td>\n",
       "      <td>11.458698</td>\n",
       "      <td>NaN</td>\n",
       "      <td>NaN</td>\n",
       "      <td>1.685733</td>\n",
       "    </tr>\n",
       "    <tr>\n",
       "      <th>min</th>\n",
       "      <td>NaN</td>\n",
       "      <td>NaN</td>\n",
       "      <td>NaN</td>\n",
       "      <td>9.900000</td>\n",
       "      <td>NaN</td>\n",
       "      <td>2.900000</td>\n",
       "      <td>1.200000</td>\n",
       "      <td>NaN</td>\n",
       "      <td>NaN</td>\n",
       "      <td>NaN</td>\n",
       "      <td>0.600000</td>\n",
       "      <td>NaN</td>\n",
       "      <td>NaN</td>\n",
       "      <td>2011.000000</td>\n",
       "    </tr>\n",
       "    <tr>\n",
       "      <th>25%</th>\n",
       "      <td>NaN</td>\n",
       "      <td>NaN</td>\n",
       "      <td>NaN</td>\n",
       "      <td>24.700000</td>\n",
       "      <td>NaN</td>\n",
       "      <td>19.600000</td>\n",
       "      <td>45.500000</td>\n",
       "      <td>NaN</td>\n",
       "      <td>NaN</td>\n",
       "      <td>NaN</td>\n",
       "      <td>11.975000</td>\n",
       "      <td>NaN</td>\n",
       "      <td>NaN</td>\n",
       "      <td>2013.000000</td>\n",
       "    </tr>\n",
       "    <tr>\n",
       "      <th>50%</th>\n",
       "      <td>NaN</td>\n",
       "      <td>NaN</td>\n",
       "      <td>NaN</td>\n",
       "      <td>33.900000</td>\n",
       "      <td>NaN</td>\n",
       "      <td>30.500000</td>\n",
       "      <td>62.500000</td>\n",
       "      <td>NaN</td>\n",
       "      <td>NaN</td>\n",
       "      <td>NaN</td>\n",
       "      <td>16.100000</td>\n",
       "      <td>NaN</td>\n",
       "      <td>NaN</td>\n",
       "      <td>2014.000000</td>\n",
       "    </tr>\n",
       "    <tr>\n",
       "      <th>75%</th>\n",
       "      <td>NaN</td>\n",
       "      <td>NaN</td>\n",
       "      <td>NaN</td>\n",
       "      <td>46.400000</td>\n",
       "      <td>NaN</td>\n",
       "      <td>47.250000</td>\n",
       "      <td>79.050000</td>\n",
       "      <td>NaN</td>\n",
       "      <td>NaN</td>\n",
       "      <td>NaN</td>\n",
       "      <td>21.500000</td>\n",
       "      <td>NaN</td>\n",
       "      <td>NaN</td>\n",
       "      <td>2016.000000</td>\n",
       "    </tr>\n",
       "    <tr>\n",
       "      <th>max</th>\n",
       "      <td>NaN</td>\n",
       "      <td>NaN</td>\n",
       "      <td>NaN</td>\n",
       "      <td>99.700000</td>\n",
       "      <td>NaN</td>\n",
       "      <td>99.400000</td>\n",
       "      <td>100.000000</td>\n",
       "      <td>NaN</td>\n",
       "      <td>NaN</td>\n",
       "      <td>NaN</td>\n",
       "      <td>162.600000</td>\n",
       "      <td>NaN</td>\n",
       "      <td>NaN</td>\n",
       "      <td>2016.000000</td>\n",
       "    </tr>\n",
       "  </tbody>\n",
       "</table>\n",
       "</div>"
      ],
      "text/plain": [
       "       world_rank                              university_name  \\\n",
       "count        2603                                         2603   \n",
       "unique        250                                          818   \n",
       "top       301-350  Pohang University of Science and Technology   \n",
       "freq          248                                            6   \n",
       "mean          NaN                                          NaN   \n",
       "std           NaN                                          NaN   \n",
       "min           NaN                                          NaN   \n",
       "25%           NaN                                          NaN   \n",
       "50%           NaN                                          NaN   \n",
       "75%           NaN                                          NaN   \n",
       "max           NaN                                          NaN   \n",
       "\n",
       "                         country     teaching international     research  \\\n",
       "count                       2603  2603.000000          2603  2603.000000   \n",
       "unique                        72          NaN           804          NaN   \n",
       "top     United States of America          NaN          20.7          NaN   \n",
       "freq                         659          NaN            10          NaN   \n",
       "mean                         NaN    37.801498           NaN    35.910257   \n",
       "std                          NaN    17.604218           NaN    21.254805   \n",
       "min                          NaN     9.900000           NaN     2.900000   \n",
       "25%                          NaN    24.700000           NaN    19.600000   \n",
       "50%                          NaN    33.900000           NaN    30.500000   \n",
       "75%                          NaN    46.400000           NaN    47.250000   \n",
       "max                          NaN    99.700000           NaN    99.400000   \n",
       "\n",
       "          citations income total_score num_students  student_staff_ratio  \\\n",
       "count   2603.000000   2603        2603         2544          2544.000000   \n",
       "unique          NaN    613         415          794                  NaN   \n",
       "top             NaN      -           -       28,881                  NaN   \n",
       "freq            NaN    218        1402            6                  NaN   \n",
       "mean      60.921629    NaN         NaN          NaN            18.445283   \n",
       "std       23.073219    NaN         NaN          NaN            11.458698   \n",
       "min        1.200000    NaN         NaN          NaN             0.600000   \n",
       "25%       45.500000    NaN         NaN          NaN            11.975000   \n",
       "50%       62.500000    NaN         NaN          NaN            16.100000   \n",
       "75%       79.050000    NaN         NaN          NaN            21.500000   \n",
       "max      100.000000    NaN         NaN          NaN           162.600000   \n",
       "\n",
       "       international_students female_male_ratio         year  \n",
       "count                    2536              2370  2603.000000  \n",
       "unique                     53                69          NaN  \n",
       "top                        7%           54 : 46          NaN  \n",
       "freq                      142               185          NaN  \n",
       "mean                      NaN               NaN  2014.075682  \n",
       "std                       NaN               NaN     1.685733  \n",
       "min                       NaN               NaN  2011.000000  \n",
       "25%                       NaN               NaN  2013.000000  \n",
       "50%                       NaN               NaN  2014.000000  \n",
       "75%                       NaN               NaN  2016.000000  \n",
       "max                       NaN               NaN  2016.000000  "
      ]
     },
     "execution_count": 108,
     "metadata": {},
     "output_type": "execute_result"
    }
   ],
   "source": [
    "df.describe(include=\"all\")#hepsi"
   ]
  },
  {
   "cell_type": "code",
   "execution_count": 109,
   "metadata": {},
   "outputs": [],
   "source": [
    "#Hiç eksik(null) değer var mı?"
   ]
  },
  {
   "cell_type": "code",
   "execution_count": 110,
   "metadata": {},
   "outputs": [
    {
     "data": {
      "text/plain": [
       "True"
      ]
     },
     "execution_count": 110,
     "metadata": {},
     "output_type": "execute_result"
    }
   ],
   "source": [
    "df.isnull().values.any()"
   ]
  },
  {
   "cell_type": "code",
   "execution_count": 111,
   "metadata": {},
   "outputs": [],
   "source": [
    "#toplamı"
   ]
  },
  {
   "cell_type": "code",
   "execution_count": 112,
   "metadata": {},
   "outputs": [
    {
     "data": {
      "text/plain": [
       "world_rank                  0\n",
       "university_name             0\n",
       "country                     0\n",
       "teaching                    0\n",
       "international               0\n",
       "research                    0\n",
       "citations                   0\n",
       "income                      0\n",
       "total_score                 0\n",
       "num_students               59\n",
       "student_staff_ratio        59\n",
       "international_students     67\n",
       "female_male_ratio         233\n",
       "year                        0\n",
       "dtype: int64"
      ]
     },
     "execution_count": 112,
     "metadata": {},
     "output_type": "execute_result"
    }
   ],
   "source": [
    "df.isnull().sum()"
   ]
  },
  {
   "cell_type": "code",
   "execution_count": 113,
   "metadata": {},
   "outputs": [],
   "source": [
    "df.fillna(df.mean(), inplace = True)"
   ]
  },
  {
   "cell_type": "code",
   "execution_count": 114,
   "metadata": {},
   "outputs": [],
   "source": [
    "#kontrol ediyoruz"
   ]
  },
  {
   "cell_type": "code",
   "execution_count": 115,
   "metadata": {},
   "outputs": [
    {
     "data": {
      "text/plain": [
       "world_rank                  0\n",
       "university_name             0\n",
       "country                     0\n",
       "teaching                    0\n",
       "international               0\n",
       "research                    0\n",
       "citations                   0\n",
       "income                      0\n",
       "total_score                 0\n",
       "num_students               59\n",
       "student_staff_ratio         0\n",
       "international_students     67\n",
       "female_male_ratio         233\n",
       "year                        0\n",
       "dtype: int64"
      ]
     },
     "execution_count": 115,
     "metadata": {},
     "output_type": "execute_result"
    }
   ],
   "source": [
    "df.isnull().sum()"
   ]
  },
  {
   "cell_type": "code",
   "execution_count": 116,
   "metadata": {},
   "outputs": [],
   "source": [
    "#null olan değerleri değiştirmek için veri tiplerine tekrar bakıyoruz"
   ]
  },
  {
   "cell_type": "code",
   "execution_count": 117,
   "metadata": {},
   "outputs": [
    {
     "data": {
      "text/plain": [
       "world_rank                 object\n",
       "university_name            object\n",
       "country                    object\n",
       "teaching                  float64\n",
       "international              object\n",
       "research                  float64\n",
       "citations                 float64\n",
       "income                     object\n",
       "total_score                object\n",
       "num_students               object\n",
       "student_staff_ratio       float64\n",
       "international_students     object\n",
       "female_male_ratio          object\n",
       "year                        int64\n",
       "dtype: object"
      ]
     },
     "execution_count": 117,
     "metadata": {},
     "output_type": "execute_result"
    }
   ],
   "source": [
    "df.dtypes"
   ]
  },
  {
   "cell_type": "code",
   "execution_count": 118,
   "metadata": {},
   "outputs": [],
   "source": [
    "#yıllara göre artan kız erkek oranı"
   ]
  },
  {
   "cell_type": "code",
   "execution_count": 119,
   "metadata": {},
   "outputs": [
    {
     "data": {
      "text/plain": [
       "<seaborn.axisgrid.FacetGrid at 0x1db5f294400>"
      ]
     },
     "execution_count": 119,
     "metadata": {},
     "output_type": "execute_result"
    },
    {
     "data": {
      "image/png": "[encoded data removed]",
      "text/plain": [
       "<Figure size 360x360 with 1 Axes>"
      ]
     },
     "metadata": {},
     "output_type": "display_data"
    }
   ],
   "source": [
    "sns.catplot(x= \"year\", y=\"female_male_ratio\",data=df)"
   ]
  },
  {
   "cell_type": "code",
   "execution_count": 120,
   "metadata": {},
   "outputs": [],
   "source": [
    "#gelirleri karşılaştırma"
   ]
  },
  {
   "cell_type": "code",
   "execution_count": null,
   "metadata": {},
   "outputs": [],
   "source": []
  },
  {
   "cell_type": "code",
   "execution_count": 121,
   "metadata": {},
   "outputs": [],
   "source": [
    "#arada NAN değerler olduğu için hata veriyor"
   ]
  },
  {
   "cell_type": "code",
   "execution_count": 122,
   "metadata": {},
   "outputs": [],
   "source": [
    "df[\"income\"].fillna(0,inplace=True)"
   ]
  },
  {
   "cell_type": "code",
   "execution_count": 123,
   "metadata": {},
   "outputs": [],
   "source": [
    "#Hiç null değer var mı?"
   ]
  },
  {
   "cell_type": "code",
   "execution_count": 124,
   "metadata": {},
   "outputs": [
    {
     "data": {
      "text/plain": [
       "False"
      ]
     },
     "execution_count": 124,
     "metadata": {},
     "output_type": "execute_result"
    }
   ],
   "source": [
    "df[\"income\"].isnull().values.any()"
   ]
  },
  {
   "cell_type": "code",
   "execution_count": 125,
   "metadata": {},
   "outputs": [],
   "source": [
    "#öğrenci çalışan oranı ortalaması"
   ]
  },
  {
   "cell_type": "code",
   "execution_count": 126,
   "metadata": {},
   "outputs": [
    {
     "data": {
      "text/plain": [
       "18.445283018867926"
      ]
     },
     "execution_count": 126,
     "metadata": {},
     "output_type": "execute_result"
    }
   ],
   "source": [
    "df[\"student_staff_ratio\"].mean()"
   ]
  },
  {
   "cell_type": "code",
   "execution_count": 127,
   "metadata": {},
   "outputs": [],
   "source": [
    "#öğrenci çalışan oranı minimumu"
   ]
  },
  {
   "cell_type": "code",
   "execution_count": 128,
   "metadata": {},
   "outputs": [
    {
     "data": {
      "text/plain": [
       "0.6"
      ]
     },
     "execution_count": 128,
     "metadata": {},
     "output_type": "execute_result"
    }
   ],
   "source": [
    "df[\"student_staff_ratio\"].min()"
   ]
  },
  {
   "cell_type": "code",
   "execution_count": 129,
   "metadata": {},
   "outputs": [],
   "source": [
    "#öğrenci çalışan oranı maximumu"
   ]
  },
  {
   "cell_type": "code",
   "execution_count": 130,
   "metadata": {},
   "outputs": [
    {
     "data": {
      "text/plain": [
       "162.6"
      ]
     },
     "execution_count": 130,
     "metadata": {},
     "output_type": "execute_result"
    }
   ],
   "source": [
    "df[\"student_staff_ratio\"].max()"
   ]
  },
  {
   "cell_type": "code",
   "execution_count": 131,
   "metadata": {},
   "outputs": [],
   "source": [
    "#histogram grafik ile gösterimi"
   ]
  },
  {
   "cell_type": "code",
   "execution_count": 132,
   "metadata": {},
   "outputs": [
    {
     "name": "stderr",
     "output_type": "stream",
     "text": [
      "C:\\Anaconda3\\envs\\env2\\lib\\site-packages\\seaborn\\distributions.py:2551: FutureWarning:\n",
      "\n",
      "`distplot` is a deprecated function and will be removed in a future version. Please adapt your code to use either `displot` (a figure-level function with similar flexibility) or `histplot` (an axes-level function for histograms).\n",
      "\n"
     ]
    },
    {
     "data": {
      "text/plain": [
       "<AxesSubplot:xlabel='student_staff_ratio', ylabel='Density'>"
      ]
     },
     "execution_count": 132,
     "metadata": {},
     "output_type": "execute_result"
    },
    {
     "data": {
      "image/png": "[encoded data removed]",
      "text/plain": [
       "<Figure size 842.4x595.44 with 1 Axes>"
      ]
     },
     "metadata": {},
     "output_type": "display_data"
    }
   ],
   "source": [
    "sns.distplot(df.student_staff_ratio, kde=True)"
   ]
  },
  {
   "cell_type": "code",
   "execution_count": 133,
   "metadata": {},
   "outputs": [
    {
     "data": {
      "text/html": [
       "<div>\n",
       "<style scoped>\n",
       "    .dataframe tbody tr th:only-of-type {\n",
       "        vertical-align: middle;\n",
       "    }\n",
       "\n",
       "    .dataframe tbody tr th {\n",
       "        vertical-align: top;\n",
       "    }\n",
       "\n",
       "    .dataframe thead th {\n",
       "        text-align: right;\n",
       "    }\n",
       "</style>\n",
       "<table border=\"1\" class=\"dataframe\">\n",
       "  <thead>\n",
       "    <tr style=\"text-align: right;\">\n",
       "      <th></th>\n",
       "      <th>world_rank</th>\n",
       "      <th>university_name</th>\n",
       "      <th>country</th>\n",
       "      <th>teaching</th>\n",
       "      <th>international</th>\n",
       "      <th>research</th>\n",
       "      <th>citations</th>\n",
       "      <th>income</th>\n",
       "      <th>total_score</th>\n",
       "      <th>num_students</th>\n",
       "      <th>student_staff_ratio</th>\n",
       "      <th>international_students</th>\n",
       "      <th>female_male_ratio</th>\n",
       "      <th>year</th>\n",
       "    </tr>\n",
       "  </thead>\n",
       "  <tbody>\n",
       "    <tr>\n",
       "      <th>0</th>\n",
       "      <td>1</td>\n",
       "      <td>Harvard University</td>\n",
       "      <td>United States of America</td>\n",
       "      <td>99.7</td>\n",
       "      <td>72.4</td>\n",
       "      <td>98.7</td>\n",
       "      <td>98.8</td>\n",
       "      <td>34.5</td>\n",
       "      <td>96.1</td>\n",
       "      <td>20,152</td>\n",
       "      <td>8.9</td>\n",
       "      <td>25%</td>\n",
       "      <td>NaN</td>\n",
       "      <td>2011</td>\n",
       "    </tr>\n",
       "    <tr>\n",
       "      <th>1</th>\n",
       "      <td>2</td>\n",
       "      <td>California Institute of Technology</td>\n",
       "      <td>United States of America</td>\n",
       "      <td>97.7</td>\n",
       "      <td>54.6</td>\n",
       "      <td>98.0</td>\n",
       "      <td>99.9</td>\n",
       "      <td>83.7</td>\n",
       "      <td>96.0</td>\n",
       "      <td>2,243</td>\n",
       "      <td>6.9</td>\n",
       "      <td>27%</td>\n",
       "      <td>33 : 67</td>\n",
       "      <td>2011</td>\n",
       "    </tr>\n",
       "    <tr>\n",
       "      <th>2</th>\n",
       "      <td>3</td>\n",
       "      <td>Massachusetts Institute of Technology</td>\n",
       "      <td>United States of America</td>\n",
       "      <td>97.8</td>\n",
       "      <td>82.3</td>\n",
       "      <td>91.4</td>\n",
       "      <td>99.9</td>\n",
       "      <td>87.5</td>\n",
       "      <td>95.6</td>\n",
       "      <td>11,074</td>\n",
       "      <td>9.0</td>\n",
       "      <td>33%</td>\n",
       "      <td>37 : 63</td>\n",
       "      <td>2011</td>\n",
       "    </tr>\n",
       "    <tr>\n",
       "      <th>3</th>\n",
       "      <td>4</td>\n",
       "      <td>Stanford University</td>\n",
       "      <td>United States of America</td>\n",
       "      <td>98.3</td>\n",
       "      <td>29.5</td>\n",
       "      <td>98.1</td>\n",
       "      <td>99.2</td>\n",
       "      <td>64.3</td>\n",
       "      <td>94.3</td>\n",
       "      <td>15,596</td>\n",
       "      <td>7.8</td>\n",
       "      <td>22%</td>\n",
       "      <td>42 : 58</td>\n",
       "      <td>2011</td>\n",
       "    </tr>\n",
       "    <tr>\n",
       "      <th>4</th>\n",
       "      <td>5</td>\n",
       "      <td>Princeton University</td>\n",
       "      <td>United States of America</td>\n",
       "      <td>90.9</td>\n",
       "      <td>70.3</td>\n",
       "      <td>95.4</td>\n",
       "      <td>99.9</td>\n",
       "      <td>-</td>\n",
       "      <td>94.2</td>\n",
       "      <td>7,929</td>\n",
       "      <td>8.4</td>\n",
       "      <td>27%</td>\n",
       "      <td>45 : 55</td>\n",
       "      <td>2011</td>\n",
       "    </tr>\n",
       "    <tr>\n",
       "      <th>...</th>\n",
       "      <td>...</td>\n",
       "      <td>...</td>\n",
       "      <td>...</td>\n",
       "      <td>...</td>\n",
       "      <td>...</td>\n",
       "      <td>...</td>\n",
       "      <td>...</td>\n",
       "      <td>...</td>\n",
       "      <td>...</td>\n",
       "      <td>...</td>\n",
       "      <td>...</td>\n",
       "      <td>...</td>\n",
       "      <td>...</td>\n",
       "      <td>...</td>\n",
       "    </tr>\n",
       "    <tr>\n",
       "      <th>2598</th>\n",
       "      <td>601-800</td>\n",
       "      <td>Yeungnam University</td>\n",
       "      <td>South Korea</td>\n",
       "      <td>18.6</td>\n",
       "      <td>24.3</td>\n",
       "      <td>10.9</td>\n",
       "      <td>26.5</td>\n",
       "      <td>35.4</td>\n",
       "      <td>-</td>\n",
       "      <td>21,958</td>\n",
       "      <td>15.3</td>\n",
       "      <td>3%</td>\n",
       "      <td>48 : 52</td>\n",
       "      <td>2016</td>\n",
       "    </tr>\n",
       "    <tr>\n",
       "      <th>2599</th>\n",
       "      <td>601-800</td>\n",
       "      <td>Yıldız Technical University</td>\n",
       "      <td>Turkey</td>\n",
       "      <td>14.5</td>\n",
       "      <td>14.9</td>\n",
       "      <td>7.6</td>\n",
       "      <td>19.3</td>\n",
       "      <td>44.0</td>\n",
       "      <td>-</td>\n",
       "      <td>31,268</td>\n",
       "      <td>28.7</td>\n",
       "      <td>2%</td>\n",
       "      <td>36 : 64</td>\n",
       "      <td>2016</td>\n",
       "    </tr>\n",
       "    <tr>\n",
       "      <th>2600</th>\n",
       "      <td>601-800</td>\n",
       "      <td>Yokohama City University</td>\n",
       "      <td>Japan</td>\n",
       "      <td>24.0</td>\n",
       "      <td>16.1</td>\n",
       "      <td>10.2</td>\n",
       "      <td>36.4</td>\n",
       "      <td>37.9</td>\n",
       "      <td>-</td>\n",
       "      <td>4,122</td>\n",
       "      <td>3.7</td>\n",
       "      <td>3%</td>\n",
       "      <td>NaN</td>\n",
       "      <td>2016</td>\n",
       "    </tr>\n",
       "    <tr>\n",
       "      <th>2601</th>\n",
       "      <td>601-800</td>\n",
       "      <td>Yokohama National University</td>\n",
       "      <td>Japan</td>\n",
       "      <td>20.1</td>\n",
       "      <td>23.3</td>\n",
       "      <td>16.0</td>\n",
       "      <td>13.5</td>\n",
       "      <td>40.4</td>\n",
       "      <td>-</td>\n",
       "      <td>10,117</td>\n",
       "      <td>12.1</td>\n",
       "      <td>8%</td>\n",
       "      <td>28 : 72</td>\n",
       "      <td>2016</td>\n",
       "    </tr>\n",
       "    <tr>\n",
       "      <th>2602</th>\n",
       "      <td>601-800</td>\n",
       "      <td>Yuan Ze University</td>\n",
       "      <td>Taiwan</td>\n",
       "      <td>16.2</td>\n",
       "      <td>17.7</td>\n",
       "      <td>18.3</td>\n",
       "      <td>28.6</td>\n",
       "      <td>39.8</td>\n",
       "      <td>-</td>\n",
       "      <td>8,663</td>\n",
       "      <td>20.6</td>\n",
       "      <td>4%</td>\n",
       "      <td>43 : 57</td>\n",
       "      <td>2016</td>\n",
       "    </tr>\n",
       "  </tbody>\n",
       "</table>\n",
       "<p>2603 rows × 14 columns</p>\n",
       "</div>"
      ],
      "text/plain": [
       "     world_rank                        university_name  \\\n",
       "0             1                     Harvard University   \n",
       "1             2     California Institute of Technology   \n",
       "2             3  Massachusetts Institute of Technology   \n",
       "3             4                    Stanford University   \n",
       "4             5                   Princeton University   \n",
       "...         ...                                    ...   \n",
       "2598    601-800                    Yeungnam University   \n",
       "2599    601-800            Yıldız Technical University   \n",
       "2600    601-800               Yokohama City University   \n",
       "2601    601-800           Yokohama National University   \n",
       "2602    601-800                     Yuan Ze University   \n",
       "\n",
       "                       country  teaching international  research  citations  \\\n",
       "0     United States of America      99.7          72.4      98.7       98.8   \n",
       "1     United States of America      97.7          54.6      98.0       99.9   \n",
       "2     United States of America      97.8          82.3      91.4       99.9   \n",
       "3     United States of America      98.3          29.5      98.1       99.2   \n",
       "4     United States of America      90.9          70.3      95.4       99.9   \n",
       "...                        ...       ...           ...       ...        ...   \n",
       "2598               South Korea      18.6          24.3      10.9       26.5   \n",
       "2599                    Turkey      14.5          14.9       7.6       19.3   \n",
       "2600                     Japan      24.0          16.1      10.2       36.4   \n",
       "2601                     Japan      20.1          23.3      16.0       13.5   \n",
       "2602                    Taiwan      16.2          17.7      18.3       28.6   \n",
       "\n",
       "     income total_score num_students  student_staff_ratio  \\\n",
       "0      34.5        96.1       20,152                  8.9   \n",
       "1      83.7        96.0        2,243                  6.9   \n",
       "2      87.5        95.6       11,074                  9.0   \n",
       "3      64.3        94.3       15,596                  7.8   \n",
       "4         -        94.2        7,929                  8.4   \n",
       "...     ...         ...          ...                  ...   \n",
       "2598   35.4           -       21,958                 15.3   \n",
       "2599   44.0           -       31,268                 28.7   \n",
       "2600   37.9           -        4,122                  3.7   \n",
       "2601   40.4           -       10,117                 12.1   \n",
       "2602   39.8           -        8,663                 20.6   \n",
       "\n",
       "     international_students female_male_ratio  year  \n",
       "0                       25%               NaN  2011  \n",
       "1                       27%           33 : 67  2011  \n",
       "2                       33%           37 : 63  2011  \n",
       "3                       22%           42 : 58  2011  \n",
       "4                       27%           45 : 55  2011  \n",
       "...                     ...               ...   ...  \n",
       "2598                     3%           48 : 52  2016  \n",
       "2599                     2%           36 : 64  2016  \n",
       "2600                     3%               NaN  2016  \n",
       "2601                     8%           28 : 72  2016  \n",
       "2602                     4%           43 : 57  2016  \n",
       "\n",
       "[2603 rows x 14 columns]"
      ]
     },
     "execution_count": 133,
     "metadata": {},
     "output_type": "execute_result"
    }
   ],
   "source": [
    "df"
   ]
  },
  {
   "cell_type": "code",
   "execution_count": 134,
   "metadata": {},
   "outputs": [
    {
     "data": {
      "text/plain": [
       "37.801498271225505"
      ]
     },
     "execution_count": 134,
     "metadata": {},
     "output_type": "execute_result"
    }
   ],
   "source": [
    "df[\"teaching\"].mean()"
   ]
  },
  {
   "cell_type": "code",
   "execution_count": 135,
   "metadata": {},
   "outputs": [],
   "source": [
    "sns.set(rc={'figure.figsize':(11.7,8.27)})"
   ]
  },
  {
   "cell_type": "code",
   "execution_count": 136,
   "metadata": {},
   "outputs": [
    {
     "name": "stderr",
     "output_type": "stream",
     "text": [
      "C:\\Anaconda3\\envs\\env2\\lib\\site-packages\\seaborn\\distributions.py:2551: FutureWarning:\n",
      "\n",
      "`distplot` is a deprecated function and will be removed in a future version. Please adapt your code to use either `displot` (a figure-level function with similar flexibility) or `histplot` (an axes-level function for histograms).\n",
      "\n"
     ]
    },
    {
     "data": {
      "text/plain": [
       "<matplotlib.lines.Line2D at 0x1db5f722d30>"
      ]
     },
     "execution_count": 136,
     "metadata": {},
     "output_type": "execute_result"
    },
    {
     "data": {
      "image/png": "[encoded data removed]",
      "text/plain": [
       "<Figure size 842.4x595.44 with 1 Axes>"
      ]
     },
     "metadata": {},
     "output_type": "display_data"
    }
   ],
   "source": [
    "ax=sns.distplot(df.teaching, kde=True,color=\"red\",\n",
    "             fit_kws={\"color\":\"yellow\"},label=\"Label-1\",hist=\"teaching\")#kde mavi çizi\n",
    "plt.axvline(37.8, color=\"k\", linestyle=\"--\")"
   ]
  },
  {
   "cell_type": "code",
   "execution_count": 137,
   "metadata": {},
   "outputs": [],
   "source": [
    "#En çok üniversite sokan ilk 10 ülkenin listesi"
   ]
  },
  {
   "cell_type": "code",
   "execution_count": 138,
   "metadata": {},
   "outputs": [
    {
     "data": {
      "text/plain": [
       "United States of America    659\n",
       "United Kingdom              300\n",
       "Germany                     152\n",
       "Australia                   117\n",
       "Canada                      108\n",
       "Japan                        98\n",
       "Italy                        94\n",
       "China                        83\n",
       "Netherlands                  75\n",
       "France                       73\n",
       "Name: country, dtype: int64"
      ]
     },
     "execution_count": 138,
     "metadata": {},
     "output_type": "execute_result"
    }
   ],
   "source": [
    "df[\"country\"].value_counts().head(10)"
   ]
  },
  {
   "cell_type": "code",
   "execution_count": 139,
   "metadata": {},
   "outputs": [
    {
     "data": {
      "text/plain": [
       "36.15277777777778"
      ]
     },
     "execution_count": 139,
     "metadata": {},
     "output_type": "execute_result"
    }
   ],
   "source": [
    "df[\"country\"].value_counts().mean()#Türkiye 33 ile ortalamanın altında"
   ]
  },
  {
   "cell_type": "code",
   "execution_count": 140,
   "metadata": {},
   "outputs": [],
   "source": [
    "#Amerika'nın listedeki üniversite sayıları"
   ]
  },
  {
   "cell_type": "code",
   "execution_count": 141,
   "metadata": {},
   "outputs": [
    {
     "data": {
      "text/plain": [
       "659"
      ]
     },
     "execution_count": 141,
     "metadata": {},
     "output_type": "execute_result"
    }
   ],
   "source": [
    "df_usa = df[\"country\"].value_counts()[\"United States of America\"]\n",
    "df[\"country\"].value_counts()[\"United States of America\"]"
   ]
  },
  {
   "cell_type": "code",
   "execution_count": 142,
   "metadata": {},
   "outputs": [],
   "source": [
    "#Türkiye'nin listedeki üniversite sayıları "
   ]
  },
  {
   "cell_type": "code",
   "execution_count": 143,
   "metadata": {},
   "outputs": [
    {
     "data": {
      "text/plain": [
       "33"
      ]
     },
     "execution_count": 143,
     "metadata": {},
     "output_type": "execute_result"
    }
   ],
   "source": [
    "df[\"country\"].value_counts()[\"Turkey\"]"
   ]
  },
  {
   "cell_type": "markdown",
   "metadata": {},
   "source": [
    "# Amerika ve Türkiye'nin karşılaştırılması"
   ]
  },
  {
   "cell_type": "code",
   "execution_count": 144,
   "metadata": {},
   "outputs": [],
   "source": [
    "#Türkiye'deki üniversitelerden data frame yaptım"
   ]
  },
  {
   "cell_type": "code",
   "execution_count": 145,
   "metadata": {},
   "outputs": [],
   "source": [
    "df_tr = df[df[\"country\"]==\"Turkey\"].copy()\n"
   ]
  },
  {
   "cell_type": "code",
   "execution_count": 146,
   "metadata": {},
   "outputs": [
    {
     "data": {
      "text/html": [
       "<div>\n",
       "<style scoped>\n",
       "    .dataframe tbody tr th:only-of-type {\n",
       "        vertical-align: middle;\n",
       "    }\n",
       "\n",
       "    .dataframe tbody tr th {\n",
       "        vertical-align: top;\n",
       "    }\n",
       "\n",
       "    .dataframe thead th {\n",
       "        text-align: right;\n",
       "    }\n",
       "</style>\n",
       "<table border=\"1\" class=\"dataframe\">\n",
       "  <thead>\n",
       "    <tr style=\"text-align: right;\">\n",
       "      <th></th>\n",
       "      <th>world_rank</th>\n",
       "      <th>university_name</th>\n",
       "      <th>country</th>\n",
       "      <th>teaching</th>\n",
       "      <th>international</th>\n",
       "      <th>research</th>\n",
       "      <th>citations</th>\n",
       "      <th>income</th>\n",
       "      <th>total_score</th>\n",
       "      <th>num_students</th>\n",
       "      <th>student_staff_ratio</th>\n",
       "      <th>international_students</th>\n",
       "      <th>female_male_ratio</th>\n",
       "      <th>year</th>\n",
       "    </tr>\n",
       "  </thead>\n",
       "  <tbody>\n",
       "    <tr>\n",
       "      <th>111</th>\n",
       "      <td>112</td>\n",
       "      <td>Bilkent University</td>\n",
       "      <td>Turkey</td>\n",
       "      <td>34.3</td>\n",
       "      <td>47.7</td>\n",
       "      <td>36.1</td>\n",
       "      <td>95.7</td>\n",
       "      <td>32.4</td>\n",
       "      <td>55.4</td>\n",
       "      <td>NaN</td>\n",
       "      <td>18.445283</td>\n",
       "      <td>NaN</td>\n",
       "      <td>NaN</td>\n",
       "      <td>2011</td>\n",
       "    </tr>\n",
       "    <tr>\n",
       "      <th>182</th>\n",
       "      <td>183</td>\n",
       "      <td>Middle East Technical University</td>\n",
       "      <td>Turkey</td>\n",
       "      <td>39.5</td>\n",
       "      <td>27.2</td>\n",
       "      <td>39.5</td>\n",
       "      <td>66.4</td>\n",
       "      <td>43.9</td>\n",
       "      <td>47.7</td>\n",
       "      <td>25,779</td>\n",
       "      <td>22.200000</td>\n",
       "      <td>7%</td>\n",
       "      <td>44 : 56</td>\n",
       "      <td>2011</td>\n",
       "    </tr>\n",
       "    <tr>\n",
       "      <th>401</th>\n",
       "      <td>201-225</td>\n",
       "      <td>Bilkent University</td>\n",
       "      <td>Turkey</td>\n",
       "      <td>27.9</td>\n",
       "      <td>48.5</td>\n",
       "      <td>22.3</td>\n",
       "      <td>60.8</td>\n",
       "      <td>29.4</td>\n",
       "      <td>-</td>\n",
       "      <td>NaN</td>\n",
       "      <td>18.445283</td>\n",
       "      <td>NaN</td>\n",
       "      <td>NaN</td>\n",
       "      <td>2012</td>\n",
       "    </tr>\n",
       "    <tr>\n",
       "      <th>480</th>\n",
       "      <td>276-300</td>\n",
       "      <td>Istanbul Technical University</td>\n",
       "      <td>Turkey</td>\n",
       "      <td>25.1</td>\n",
       "      <td>18.9</td>\n",
       "      <td>18.2</td>\n",
       "      <td>48.9</td>\n",
       "      <td>99.1</td>\n",
       "      <td>-</td>\n",
       "      <td>34,550</td>\n",
       "      <td>16.000000</td>\n",
       "      <td>5%</td>\n",
       "      <td>34 : 66</td>\n",
       "      <td>2012</td>\n",
       "    </tr>\n",
       "    <tr>\n",
       "      <th>482</th>\n",
       "      <td>276-300</td>\n",
       "      <td>Middle East Technical University</td>\n",
       "      <td>Turkey</td>\n",
       "      <td>37.0</td>\n",
       "      <td>23.5</td>\n",
       "      <td>28.9</td>\n",
       "      <td>35.1</td>\n",
       "      <td>43.2</td>\n",
       "      <td>-</td>\n",
       "      <td>25,779</td>\n",
       "      <td>22.200000</td>\n",
       "      <td>7%</td>\n",
       "      <td>44 : 56</td>\n",
       "      <td>2012</td>\n",
       "    </tr>\n",
       "    <tr>\n",
       "      <th>506</th>\n",
       "      <td>301-350</td>\n",
       "      <td>Boğaziçi University</td>\n",
       "      <td>Turkey</td>\n",
       "      <td>24.5</td>\n",
       "      <td>36.2</td>\n",
       "      <td>19.7</td>\n",
       "      <td>45.7</td>\n",
       "      <td>34.7</td>\n",
       "      <td>-</td>\n",
       "      <td>11,506</td>\n",
       "      <td>25.000000</td>\n",
       "      <td>7%</td>\n",
       "      <td>50 : 50</td>\n",
       "      <td>2012</td>\n",
       "    </tr>\n",
       "    <tr>\n",
       "      <th>808</th>\n",
       "      <td>201-225</td>\n",
       "      <td>Middle East Technical University</td>\n",
       "      <td>Turkey</td>\n",
       "      <td>50.8</td>\n",
       "      <td>28.0</td>\n",
       "      <td>46.0</td>\n",
       "      <td>44.6</td>\n",
       "      <td>50.6</td>\n",
       "      <td>-</td>\n",
       "      <td>25,779</td>\n",
       "      <td>22.200000</td>\n",
       "      <td>7%</td>\n",
       "      <td>44 : 56</td>\n",
       "      <td>2013</td>\n",
       "    </tr>\n",
       "    <tr>\n",
       "      <th>827</th>\n",
       "      <td>226-250</td>\n",
       "      <td>Bilkent University</td>\n",
       "      <td>Turkey</td>\n",
       "      <td>34.7</td>\n",
       "      <td>42.0</td>\n",
       "      <td>30.5</td>\n",
       "      <td>60.1</td>\n",
       "      <td>39.9</td>\n",
       "      <td>-</td>\n",
       "      <td>NaN</td>\n",
       "      <td>18.445283</td>\n",
       "      <td>NaN</td>\n",
       "      <td>NaN</td>\n",
       "      <td>2013</td>\n",
       "    </tr>\n",
       "    <tr>\n",
       "      <th>834</th>\n",
       "      <td>226-250</td>\n",
       "      <td>Koç University</td>\n",
       "      <td>Turkey</td>\n",
       "      <td>20.4</td>\n",
       "      <td>52.8</td>\n",
       "      <td>22.3</td>\n",
       "      <td>79.2</td>\n",
       "      <td>37.9</td>\n",
       "      <td>-</td>\n",
       "      <td>4,488</td>\n",
       "      <td>14.600000</td>\n",
       "      <td>8%</td>\n",
       "      <td>52 : 48</td>\n",
       "      <td>2013</td>\n",
       "    </tr>\n",
       "    <tr>\n",
       "      <th>881</th>\n",
       "      <td>276-300</td>\n",
       "      <td>Boğaziçi University</td>\n",
       "      <td>Turkey</td>\n",
       "      <td>35.4</td>\n",
       "      <td>36.7</td>\n",
       "      <td>33.9</td>\n",
       "      <td>48.1</td>\n",
       "      <td>38.4</td>\n",
       "      <td>-</td>\n",
       "      <td>11,506</td>\n",
       "      <td>25.000000</td>\n",
       "      <td>7%</td>\n",
       "      <td>50 : 50</td>\n",
       "      <td>2013</td>\n",
       "    </tr>\n",
       "    <tr>\n",
       "      <th>884</th>\n",
       "      <td>276-300</td>\n",
       "      <td>Istanbul Technical University</td>\n",
       "      <td>Turkey</td>\n",
       "      <td>34.9</td>\n",
       "      <td>20.8</td>\n",
       "      <td>25.5</td>\n",
       "      <td>52.9</td>\n",
       "      <td>98.0</td>\n",
       "      <td>-</td>\n",
       "      <td>34,550</td>\n",
       "      <td>16.000000</td>\n",
       "      <td>5%</td>\n",
       "      <td>34 : 66</td>\n",
       "      <td>2013</td>\n",
       "    </tr>\n",
       "    <tr>\n",
       "      <th>1200</th>\n",
       "      <td>199</td>\n",
       "      <td>Boğaziçi University</td>\n",
       "      <td>Turkey</td>\n",
       "      <td>20.5</td>\n",
       "      <td>49.8</td>\n",
       "      <td>22.8</td>\n",
       "      <td>88.2</td>\n",
       "      <td>45.9</td>\n",
       "      <td>44.3</td>\n",
       "      <td>11,506</td>\n",
       "      <td>25.000000</td>\n",
       "      <td>7%</td>\n",
       "      <td>50 : 50</td>\n",
       "      <td>2014</td>\n",
       "    </tr>\n",
       "    <tr>\n",
       "      <th>1207</th>\n",
       "      <td>201-225</td>\n",
       "      <td>Istanbul Technical University</td>\n",
       "      <td>Turkey</td>\n",
       "      <td>26.2</td>\n",
       "      <td>35.7</td>\n",
       "      <td>19.2</td>\n",
       "      <td>82.3</td>\n",
       "      <td>68.2</td>\n",
       "      <td>-</td>\n",
       "      <td>34,550</td>\n",
       "      <td>16.000000</td>\n",
       "      <td>5%</td>\n",
       "      <td>34 : 66</td>\n",
       "      <td>2014</td>\n",
       "    </tr>\n",
       "    <tr>\n",
       "      <th>1210</th>\n",
       "      <td>201-225</td>\n",
       "      <td>Middle East Technical University</td>\n",
       "      <td>Turkey</td>\n",
       "      <td>39.2</td>\n",
       "      <td>31.2</td>\n",
       "      <td>30.0</td>\n",
       "      <td>56.4</td>\n",
       "      <td>57.0</td>\n",
       "      <td>-</td>\n",
       "      <td>25,779</td>\n",
       "      <td>22.200000</td>\n",
       "      <td>7%</td>\n",
       "      <td>44 : 56</td>\n",
       "      <td>2014</td>\n",
       "    </tr>\n",
       "    <tr>\n",
       "      <th>1229</th>\n",
       "      <td>226-250</td>\n",
       "      <td>Bilkent University</td>\n",
       "      <td>Turkey</td>\n",
       "      <td>24.4</td>\n",
       "      <td>43.7</td>\n",
       "      <td>26.0</td>\n",
       "      <td>69.2</td>\n",
       "      <td>46.6</td>\n",
       "      <td>-</td>\n",
       "      <td>NaN</td>\n",
       "      <td>18.445283</td>\n",
       "      <td>NaN</td>\n",
       "      <td>NaN</td>\n",
       "      <td>2014</td>\n",
       "    </tr>\n",
       "    <tr>\n",
       "      <th>1281</th>\n",
       "      <td>276-300</td>\n",
       "      <td>Koç University</td>\n",
       "      <td>Turkey</td>\n",
       "      <td>16.6</td>\n",
       "      <td>57.8</td>\n",
       "      <td>17.1</td>\n",
       "      <td>72.1</td>\n",
       "      <td>41.1</td>\n",
       "      <td>-</td>\n",
       "      <td>4,488</td>\n",
       "      <td>14.600000</td>\n",
       "      <td>8%</td>\n",
       "      <td>52 : 48</td>\n",
       "      <td>2014</td>\n",
       "    </tr>\n",
       "    <tr>\n",
       "      <th>1486</th>\n",
       "      <td>85</td>\n",
       "      <td>Middle East Technical University</td>\n",
       "      <td>Turkey</td>\n",
       "      <td>45.5</td>\n",
       "      <td>38.7</td>\n",
       "      <td>36.9</td>\n",
       "      <td>92.0</td>\n",
       "      <td>55.2</td>\n",
       "      <td>56.6</td>\n",
       "      <td>25,779</td>\n",
       "      <td>22.200000</td>\n",
       "      <td>7%</td>\n",
       "      <td>44 : 56</td>\n",
       "      <td>2015</td>\n",
       "    </tr>\n",
       "    <tr>\n",
       "      <th>1540</th>\n",
       "      <td>139</td>\n",
       "      <td>Boğaziçi University</td>\n",
       "      <td>Turkey</td>\n",
       "      <td>28.5</td>\n",
       "      <td>54.1</td>\n",
       "      <td>27.6</td>\n",
       "      <td>96.8</td>\n",
       "      <td>47.7</td>\n",
       "      <td>51.1</td>\n",
       "      <td>11,506</td>\n",
       "      <td>25.000000</td>\n",
       "      <td>7%</td>\n",
       "      <td>50 : 50</td>\n",
       "      <td>2015</td>\n",
       "    </tr>\n",
       "    <tr>\n",
       "      <th>1566</th>\n",
       "      <td>165</td>\n",
       "      <td>Istanbul Technical University</td>\n",
       "      <td>Turkey</td>\n",
       "      <td>30.2</td>\n",
       "      <td>37.3</td>\n",
       "      <td>36.9</td>\n",
       "      <td>79.7</td>\n",
       "      <td>51.1</td>\n",
       "      <td>48.1</td>\n",
       "      <td>34,550</td>\n",
       "      <td>16.000000</td>\n",
       "      <td>5%</td>\n",
       "      <td>34 : 66</td>\n",
       "      <td>2015</td>\n",
       "    </tr>\n",
       "    <tr>\n",
       "      <th>1584</th>\n",
       "      <td>182</td>\n",
       "      <td>Sabancı University</td>\n",
       "      <td>Turkey</td>\n",
       "      <td>26.0</td>\n",
       "      <td>44.6</td>\n",
       "      <td>27.1</td>\n",
       "      <td>88.5</td>\n",
       "      <td>42.9</td>\n",
       "      <td>46.9</td>\n",
       "      <td>2,739</td>\n",
       "      <td>15.900000</td>\n",
       "      <td>6%</td>\n",
       "      <td>39 : 61</td>\n",
       "      <td>2015</td>\n",
       "    </tr>\n",
       "    <tr>\n",
       "      <th>1603</th>\n",
       "      <td>201-225</td>\n",
       "      <td>Bilkent University</td>\n",
       "      <td>Turkey</td>\n",
       "      <td>28.0</td>\n",
       "      <td>44.6</td>\n",
       "      <td>27.7</td>\n",
       "      <td>76.0</td>\n",
       "      <td>46.4</td>\n",
       "      <td>-</td>\n",
       "      <td>NaN</td>\n",
       "      <td>18.445283</td>\n",
       "      <td>NaN</td>\n",
       "      <td>NaN</td>\n",
       "      <td>2015</td>\n",
       "    </tr>\n",
       "    <tr>\n",
       "      <th>1715</th>\n",
       "      <td>301-350</td>\n",
       "      <td>Koç University</td>\n",
       "      <td>Turkey</td>\n",
       "      <td>21.6</td>\n",
       "      <td>49.8</td>\n",
       "      <td>24.4</td>\n",
       "      <td>58.5</td>\n",
       "      <td>50.6</td>\n",
       "      <td>-</td>\n",
       "      <td>4,488</td>\n",
       "      <td>14.600000</td>\n",
       "      <td>8%</td>\n",
       "      <td>52 : 48</td>\n",
       "      <td>2015</td>\n",
       "    </tr>\n",
       "    <tr>\n",
       "      <th>2075</th>\n",
       "      <td>251-300</td>\n",
       "      <td>Koç University</td>\n",
       "      <td>Turkey</td>\n",
       "      <td>21.2</td>\n",
       "      <td>53.5</td>\n",
       "      <td>27.1</td>\n",
       "      <td>74.9</td>\n",
       "      <td>82.4</td>\n",
       "      <td>-</td>\n",
       "      <td>4,488</td>\n",
       "      <td>14.600000</td>\n",
       "      <td>8%</td>\n",
       "      <td>52 : 48</td>\n",
       "      <td>2016</td>\n",
       "    </tr>\n",
       "    <tr>\n",
       "      <th>2153</th>\n",
       "      <td>351-400</td>\n",
       "      <td>Bilkent University</td>\n",
       "      <td>Turkey</td>\n",
       "      <td>22.6</td>\n",
       "      <td>47.5</td>\n",
       "      <td>17.5</td>\n",
       "      <td>64.1</td>\n",
       "      <td>30.2</td>\n",
       "      <td>-</td>\n",
       "      <td>NaN</td>\n",
       "      <td>18.445283</td>\n",
       "      <td>NaN</td>\n",
       "      <td>NaN</td>\n",
       "      <td>2016</td>\n",
       "    </tr>\n",
       "    <tr>\n",
       "      <th>2183</th>\n",
       "      <td>351-400</td>\n",
       "      <td>Sabancı University</td>\n",
       "      <td>Turkey</td>\n",
       "      <td>22.3</td>\n",
       "      <td>42.7</td>\n",
       "      <td>32.3</td>\n",
       "      <td>52.8</td>\n",
       "      <td>70.0</td>\n",
       "      <td>-</td>\n",
       "      <td>2,739</td>\n",
       "      <td>15.900000</td>\n",
       "      <td>6%</td>\n",
       "      <td>39 : 61</td>\n",
       "      <td>2016</td>\n",
       "    </tr>\n",
       "    <tr>\n",
       "      <th>2313</th>\n",
       "      <td>501-600</td>\n",
       "      <td>Boğaziçi University</td>\n",
       "      <td>Turkey</td>\n",
       "      <td>21.2</td>\n",
       "      <td>38.3</td>\n",
       "      <td>17.2</td>\n",
       "      <td>45.4</td>\n",
       "      <td>35.5</td>\n",
       "      <td>-</td>\n",
       "      <td>11,506</td>\n",
       "      <td>25.000000</td>\n",
       "      <td>7%</td>\n",
       "      <td>50 : 50</td>\n",
       "      <td>2016</td>\n",
       "    </tr>\n",
       "    <tr>\n",
       "      <th>2337</th>\n",
       "      <td>501-600</td>\n",
       "      <td>Istanbul Technical University</td>\n",
       "      <td>Turkey</td>\n",
       "      <td>19.2</td>\n",
       "      <td>22.9</td>\n",
       "      <td>25.8</td>\n",
       "      <td>26.5</td>\n",
       "      <td>72.1</td>\n",
       "      <td>-</td>\n",
       "      <td>34,550</td>\n",
       "      <td>16.000000</td>\n",
       "      <td>5%</td>\n",
       "      <td>34 : 66</td>\n",
       "      <td>2016</td>\n",
       "    </tr>\n",
       "    <tr>\n",
       "      <th>2356</th>\n",
       "      <td>501-600</td>\n",
       "      <td>Middle East Technical University</td>\n",
       "      <td>Turkey</td>\n",
       "      <td>29.9</td>\n",
       "      <td>26.7</td>\n",
       "      <td>17.3</td>\n",
       "      <td>28.8</td>\n",
       "      <td>60.0</td>\n",
       "      <td>-</td>\n",
       "      <td>25,779</td>\n",
       "      <td>22.200000</td>\n",
       "      <td>7%</td>\n",
       "      <td>44 : 56</td>\n",
       "      <td>2016</td>\n",
       "    </tr>\n",
       "    <tr>\n",
       "      <th>2413</th>\n",
       "      <td>601-800</td>\n",
       "      <td>Anadolu University</td>\n",
       "      <td>Turkey</td>\n",
       "      <td>12.2</td>\n",
       "      <td>14.3</td>\n",
       "      <td>22.6</td>\n",
       "      <td>10.9</td>\n",
       "      <td>100.0</td>\n",
       "      <td>-</td>\n",
       "      <td>379,231</td>\n",
       "      <td>162.600000</td>\n",
       "      <td>1%</td>\n",
       "      <td>78 : 22</td>\n",
       "      <td>2016</td>\n",
       "    </tr>\n",
       "    <tr>\n",
       "      <th>2461</th>\n",
       "      <td>601-800</td>\n",
       "      <td>Erciyes University</td>\n",
       "      <td>Turkey</td>\n",
       "      <td>15.5</td>\n",
       "      <td>17.2</td>\n",
       "      <td>10.9</td>\n",
       "      <td>18.0</td>\n",
       "      <td>30.3</td>\n",
       "      <td>-</td>\n",
       "      <td>28,079</td>\n",
       "      <td>28.000000</td>\n",
       "      <td>2%</td>\n",
       "      <td>46 : 54</td>\n",
       "      <td>2016</td>\n",
       "    </tr>\n",
       "    <tr>\n",
       "      <th>2478</th>\n",
       "      <td>601-800</td>\n",
       "      <td>Hacettepe University</td>\n",
       "      <td>Turkey</td>\n",
       "      <td>21.0</td>\n",
       "      <td>19.6</td>\n",
       "      <td>11.8</td>\n",
       "      <td>19.7</td>\n",
       "      <td>28.2</td>\n",
       "      <td>-</td>\n",
       "      <td>39,606</td>\n",
       "      <td>20.400000</td>\n",
       "      <td>4%</td>\n",
       "      <td>56 : 44</td>\n",
       "      <td>2016</td>\n",
       "    </tr>\n",
       "    <tr>\n",
       "      <th>2485</th>\n",
       "      <td>601-800</td>\n",
       "      <td>Istanbul University</td>\n",
       "      <td>Turkey</td>\n",
       "      <td>26.0</td>\n",
       "      <td>20.0</td>\n",
       "      <td>23.3</td>\n",
       "      <td>10.0</td>\n",
       "      <td>100.0</td>\n",
       "      <td>-</td>\n",
       "      <td>82,096</td>\n",
       "      <td>41.100000</td>\n",
       "      <td>6%</td>\n",
       "      <td>44 : 56</td>\n",
       "      <td>2016</td>\n",
       "    </tr>\n",
       "    <tr>\n",
       "      <th>2599</th>\n",
       "      <td>601-800</td>\n",
       "      <td>Yıldız Technical University</td>\n",
       "      <td>Turkey</td>\n",
       "      <td>14.5</td>\n",
       "      <td>14.9</td>\n",
       "      <td>7.6</td>\n",
       "      <td>19.3</td>\n",
       "      <td>44.0</td>\n",
       "      <td>-</td>\n",
       "      <td>31,268</td>\n",
       "      <td>28.700000</td>\n",
       "      <td>2%</td>\n",
       "      <td>36 : 64</td>\n",
       "      <td>2016</td>\n",
       "    </tr>\n",
       "  </tbody>\n",
       "</table>\n",
       "</div>"
      ],
      "text/plain": [
       "     world_rank                   university_name country  teaching  \\\n",
       "111         112                Bilkent University  Turkey      34.3   \n",
       "182         183  Middle East Technical University  Turkey      39.5   \n",
       "401     201-225                Bilkent University  Turkey      27.9   \n",
       "480     276-300     Istanbul Technical University  Turkey      25.1   \n",
       "482     276-300  Middle East Technical University  Turkey      37.0   \n",
       "506     301-350               Boğaziçi University  Turkey      24.5   \n",
       "808     201-225  Middle East Technical University  Turkey      50.8   \n",
       "827     226-250                Bilkent University  Turkey      34.7   \n",
       "834     226-250                    Koç University  Turkey      20.4   \n",
       "881     276-300               Boğaziçi University  Turkey      35.4   \n",
       "884     276-300     Istanbul Technical University  Turkey      34.9   \n",
       "1200        199               Boğaziçi University  Turkey      20.5   \n",
       "1207    201-225     Istanbul Technical University  Turkey      26.2   \n",
       "1210    201-225  Middle East Technical University  Turkey      39.2   \n",
       "1229    226-250                Bilkent University  Turkey      24.4   \n",
       "1281    276-300                    Koç University  Turkey      16.6   \n",
       "1486         85  Middle East Technical University  Turkey      45.5   \n",
       "1540        139               Boğaziçi University  Turkey      28.5   \n",
       "1566        165     Istanbul Technical University  Turkey      30.2   \n",
       "1584        182                Sabancı University  Turkey      26.0   \n",
       "1603    201-225                Bilkent University  Turkey      28.0   \n",
       "1715    301-350                    Koç University  Turkey      21.6   \n",
       "2075    251-300                    Koç University  Turkey      21.2   \n",
       "2153    351-400                Bilkent University  Turkey      22.6   \n",
       "2183    351-400                Sabancı University  Turkey      22.3   \n",
       "2313    501-600               Boğaziçi University  Turkey      21.2   \n",
       "2337    501-600     Istanbul Technical University  Turkey      19.2   \n",
       "2356    501-600  Middle East Technical University  Turkey      29.9   \n",
       "2413    601-800                Anadolu University  Turkey      12.2   \n",
       "2461    601-800                Erciyes University  Turkey      15.5   \n",
       "2478    601-800              Hacettepe University  Turkey      21.0   \n",
       "2485    601-800               Istanbul University  Turkey      26.0   \n",
       "2599    601-800       Yıldız Technical University  Turkey      14.5   \n",
       "\n",
       "     international  research  citations income total_score num_students  \\\n",
       "111           47.7      36.1       95.7   32.4        55.4          NaN   \n",
       "182           27.2      39.5       66.4   43.9        47.7       25,779   \n",
       "401           48.5      22.3       60.8   29.4           -          NaN   \n",
       "480           18.9      18.2       48.9   99.1           -       34,550   \n",
       "482           23.5      28.9       35.1   43.2           -       25,779   \n",
       "506           36.2      19.7       45.7   34.7           -       11,506   \n",
       "808           28.0      46.0       44.6   50.6           -       25,779   \n",
       "827           42.0      30.5       60.1   39.9           -          NaN   \n",
       "834           52.8      22.3       79.2   37.9           -        4,488   \n",
       "881           36.7      33.9       48.1   38.4           -       11,506   \n",
       "884           20.8      25.5       52.9   98.0           -       34,550   \n",
       "1200          49.8      22.8       88.2   45.9        44.3       11,506   \n",
       "1207          35.7      19.2       82.3   68.2           -       34,550   \n",
       "1210          31.2      30.0       56.4   57.0           -       25,779   \n",
       "1229          43.7      26.0       69.2   46.6           -          NaN   \n",
       "1281          57.8      17.1       72.1   41.1           -        4,488   \n",
       "1486          38.7      36.9       92.0   55.2        56.6       25,779   \n",
       "1540          54.1      27.6       96.8   47.7        51.1       11,506   \n",
       "1566          37.3      36.9       79.7   51.1        48.1       34,550   \n",
       "1584          44.6      27.1       88.5   42.9        46.9        2,739   \n",
       "1603          44.6      27.7       76.0   46.4           -          NaN   \n",
       "1715          49.8      24.4       58.5   50.6           -        4,488   \n",
       "2075          53.5      27.1       74.9   82.4           -        4,488   \n",
       "2153          47.5      17.5       64.1   30.2           -          NaN   \n",
       "2183          42.7      32.3       52.8   70.0           -        2,739   \n",
       "2313          38.3      17.2       45.4   35.5           -       11,506   \n",
       "2337          22.9      25.8       26.5   72.1           -       34,550   \n",
       "2356          26.7      17.3       28.8   60.0           -       25,779   \n",
       "2413          14.3      22.6       10.9  100.0           -      379,231   \n",
       "2461          17.2      10.9       18.0   30.3           -       28,079   \n",
       "2478          19.6      11.8       19.7   28.2           -       39,606   \n",
       "2485          20.0      23.3       10.0  100.0           -       82,096   \n",
       "2599          14.9       7.6       19.3   44.0           -       31,268   \n",
       "\n",
       "      student_staff_ratio international_students female_male_ratio  year  \n",
       "111             18.445283                    NaN               NaN  2011  \n",
       "182             22.200000                     7%           44 : 56  2011  \n",
       "401             18.445283                    NaN               NaN  2012  \n",
       "480             16.000000                     5%           34 : 66  2012  \n",
       "482             22.200000                     7%           44 : 56  2012  \n",
       "506             25.000000                     7%           50 : 50  2012  \n",
       "808             22.200000                     7%           44 : 56  2013  \n",
       "827             18.445283                    NaN               NaN  2013  \n",
       "834             14.600000                     8%           52 : 48  2013  \n",
       "881             25.000000                     7%           50 : 50  2013  \n",
       "884             16.000000                     5%           34 : 66  2013  \n",
       "1200            25.000000                     7%           50 : 50  2014  \n",
       "1207            16.000000                     5%           34 : 66  2014  \n",
       "1210            22.200000                     7%           44 : 56  2014  \n",
       "1229            18.445283                    NaN               NaN  2014  \n",
       "1281            14.600000                     8%           52 : 48  2014  \n",
       "1486            22.200000                     7%           44 : 56  2015  \n",
       "1540            25.000000                     7%           50 : 50  2015  \n",
       "1566            16.000000                     5%           34 : 66  2015  \n",
       "1584            15.900000                     6%           39 : 61  2015  \n",
       "1603            18.445283                    NaN               NaN  2015  \n",
       "1715            14.600000                     8%           52 : 48  2015  \n",
       "2075            14.600000                     8%           52 : 48  2016  \n",
       "2153            18.445283                    NaN               NaN  2016  \n",
       "2183            15.900000                     6%           39 : 61  2016  \n",
       "2313            25.000000                     7%           50 : 50  2016  \n",
       "2337            16.000000                     5%           34 : 66  2016  \n",
       "2356            22.200000                     7%           44 : 56  2016  \n",
       "2413           162.600000                     1%           78 : 22  2016  \n",
       "2461            28.000000                     2%           46 : 54  2016  \n",
       "2478            20.400000                     4%           56 : 44  2016  \n",
       "2485            41.100000                     6%           44 : 56  2016  \n",
       "2599            28.700000                     2%           36 : 64  2016  "
      ]
     },
     "execution_count": 146,
     "metadata": {},
     "output_type": "execute_result"
    }
   ],
   "source": [
    "df_tr"
   ]
  },
  {
   "cell_type": "code",
   "execution_count": 147,
   "metadata": {},
   "outputs": [
    {
     "data": {
      "text/html": [
       "<div>\n",
       "<style scoped>\n",
       "    .dataframe tbody tr th:only-of-type {\n",
       "        vertical-align: middle;\n",
       "    }\n",
       "\n",
       "    .dataframe tbody tr th {\n",
       "        vertical-align: top;\n",
       "    }\n",
       "\n",
       "    .dataframe thead th {\n",
       "        text-align: right;\n",
       "    }\n",
       "</style>\n",
       "<table border=\"1\" class=\"dataframe\">\n",
       "  <thead>\n",
       "    <tr style=\"text-align: right;\">\n",
       "      <th></th>\n",
       "      <th>world_rank</th>\n",
       "      <th>university_name</th>\n",
       "      <th>country</th>\n",
       "      <th>teaching</th>\n",
       "      <th>international</th>\n",
       "      <th>research</th>\n",
       "      <th>citations</th>\n",
       "      <th>income</th>\n",
       "      <th>total_score</th>\n",
       "      <th>num_students</th>\n",
       "      <th>student_staff_ratio</th>\n",
       "      <th>international_students</th>\n",
       "      <th>female_male_ratio</th>\n",
       "      <th>year</th>\n",
       "    </tr>\n",
       "  </thead>\n",
       "  <tbody>\n",
       "    <tr>\n",
       "      <th>0</th>\n",
       "      <td>1</td>\n",
       "      <td>Harvard University</td>\n",
       "      <td>United States of America</td>\n",
       "      <td>99.7</td>\n",
       "      <td>72.4</td>\n",
       "      <td>98.7</td>\n",
       "      <td>98.8</td>\n",
       "      <td>34.5</td>\n",
       "      <td>96.1</td>\n",
       "      <td>20,152</td>\n",
       "      <td>8.9</td>\n",
       "      <td>25%</td>\n",
       "      <td>NaN</td>\n",
       "      <td>2011</td>\n",
       "    </tr>\n",
       "    <tr>\n",
       "      <th>1</th>\n",
       "      <td>2</td>\n",
       "      <td>California Institute of Technology</td>\n",
       "      <td>United States of America</td>\n",
       "      <td>97.7</td>\n",
       "      <td>54.6</td>\n",
       "      <td>98.0</td>\n",
       "      <td>99.9</td>\n",
       "      <td>83.7</td>\n",
       "      <td>96.0</td>\n",
       "      <td>2,243</td>\n",
       "      <td>6.9</td>\n",
       "      <td>27%</td>\n",
       "      <td>33 : 67</td>\n",
       "      <td>2011</td>\n",
       "    </tr>\n",
       "    <tr>\n",
       "      <th>2</th>\n",
       "      <td>3</td>\n",
       "      <td>Massachusetts Institute of Technology</td>\n",
       "      <td>United States of America</td>\n",
       "      <td>97.8</td>\n",
       "      <td>82.3</td>\n",
       "      <td>91.4</td>\n",
       "      <td>99.9</td>\n",
       "      <td>87.5</td>\n",
       "      <td>95.6</td>\n",
       "      <td>11,074</td>\n",
       "      <td>9.0</td>\n",
       "      <td>33%</td>\n",
       "      <td>37 : 63</td>\n",
       "      <td>2011</td>\n",
       "    </tr>\n",
       "    <tr>\n",
       "      <th>3</th>\n",
       "      <td>4</td>\n",
       "      <td>Stanford University</td>\n",
       "      <td>United States of America</td>\n",
       "      <td>98.3</td>\n",
       "      <td>29.5</td>\n",
       "      <td>98.1</td>\n",
       "      <td>99.2</td>\n",
       "      <td>64.3</td>\n",
       "      <td>94.3</td>\n",
       "      <td>15,596</td>\n",
       "      <td>7.8</td>\n",
       "      <td>22%</td>\n",
       "      <td>42 : 58</td>\n",
       "      <td>2011</td>\n",
       "    </tr>\n",
       "    <tr>\n",
       "      <th>4</th>\n",
       "      <td>5</td>\n",
       "      <td>Princeton University</td>\n",
       "      <td>United States of America</td>\n",
       "      <td>90.9</td>\n",
       "      <td>70.3</td>\n",
       "      <td>95.4</td>\n",
       "      <td>99.9</td>\n",
       "      <td>-</td>\n",
       "      <td>94.2</td>\n",
       "      <td>7,929</td>\n",
       "      <td>8.4</td>\n",
       "      <td>27%</td>\n",
       "      <td>45 : 55</td>\n",
       "      <td>2011</td>\n",
       "    </tr>\n",
       "    <tr>\n",
       "      <th>...</th>\n",
       "      <td>...</td>\n",
       "      <td>...</td>\n",
       "      <td>...</td>\n",
       "      <td>...</td>\n",
       "      <td>...</td>\n",
       "      <td>...</td>\n",
       "      <td>...</td>\n",
       "      <td>...</td>\n",
       "      <td>...</td>\n",
       "      <td>...</td>\n",
       "      <td>...</td>\n",
       "      <td>...</td>\n",
       "      <td>...</td>\n",
       "      <td>...</td>\n",
       "    </tr>\n",
       "    <tr>\n",
       "      <th>2527</th>\n",
       "      <td>601-800</td>\n",
       "      <td>Ohio University</td>\n",
       "      <td>United States of America</td>\n",
       "      <td>25.0</td>\n",
       "      <td>33.6</td>\n",
       "      <td>14.9</td>\n",
       "      <td>24.6</td>\n",
       "      <td>30.1</td>\n",
       "      <td>-</td>\n",
       "      <td>22,224</td>\n",
       "      <td>20.0</td>\n",
       "      <td>10%</td>\n",
       "      <td>50 : 50</td>\n",
       "      <td>2016</td>\n",
       "    </tr>\n",
       "    <tr>\n",
       "      <th>2542</th>\n",
       "      <td>601-800</td>\n",
       "      <td>Rochester Institute of Technology</td>\n",
       "      <td>United States of America</td>\n",
       "      <td>17.4</td>\n",
       "      <td>29.8</td>\n",
       "      <td>13.4</td>\n",
       "      <td>25.1</td>\n",
       "      <td>30.4</td>\n",
       "      <td>-</td>\n",
       "      <td>12,965</td>\n",
       "      <td>13.5</td>\n",
       "      <td>13%</td>\n",
       "      <td>34 : 66</td>\n",
       "      <td>2016</td>\n",
       "    </tr>\n",
       "    <tr>\n",
       "      <th>2564</th>\n",
       "      <td>601-800</td>\n",
       "      <td>University of Southern Mississippi</td>\n",
       "      <td>United States of America</td>\n",
       "      <td>21.0</td>\n",
       "      <td>20.8</td>\n",
       "      <td>11.8</td>\n",
       "      <td>20.1</td>\n",
       "      <td>39.9</td>\n",
       "      <td>-</td>\n",
       "      <td>14,569</td>\n",
       "      <td>18.5</td>\n",
       "      <td>3%</td>\n",
       "      <td>63 : 37</td>\n",
       "      <td>2016</td>\n",
       "    </tr>\n",
       "    <tr>\n",
       "      <th>2574</th>\n",
       "      <td>601-800</td>\n",
       "      <td>University of Texas at El Paso</td>\n",
       "      <td>United States of America</td>\n",
       "      <td>18.6</td>\n",
       "      <td>30.4</td>\n",
       "      <td>18.7</td>\n",
       "      <td>18.4</td>\n",
       "      <td>-</td>\n",
       "      <td>-</td>\n",
       "      <td>19,123</td>\n",
       "      <td>29.0</td>\n",
       "      <td>7%</td>\n",
       "      <td>54 : 46</td>\n",
       "      <td>2016</td>\n",
       "    </tr>\n",
       "    <tr>\n",
       "      <th>2575</th>\n",
       "      <td>601-800</td>\n",
       "      <td>Texas Tech University</td>\n",
       "      <td>United States of America</td>\n",
       "      <td>27.9</td>\n",
       "      <td>36.8</td>\n",
       "      <td>17.2</td>\n",
       "      <td>22.0</td>\n",
       "      <td>-</td>\n",
       "      <td>-</td>\n",
       "      <td>29,512</td>\n",
       "      <td>20.9</td>\n",
       "      <td>7%</td>\n",
       "      <td>46 : 54</td>\n",
       "      <td>2016</td>\n",
       "    </tr>\n",
       "  </tbody>\n",
       "</table>\n",
       "<p>659 rows × 14 columns</p>\n",
       "</div>"
      ],
      "text/plain": [
       "     world_rank                        university_name  \\\n",
       "0             1                     Harvard University   \n",
       "1             2     California Institute of Technology   \n",
       "2             3  Massachusetts Institute of Technology   \n",
       "3             4                    Stanford University   \n",
       "4             5                   Princeton University   \n",
       "...         ...                                    ...   \n",
       "2527    601-800                        Ohio University   \n",
       "2542    601-800      Rochester Institute of Technology   \n",
       "2564    601-800     University of Southern Mississippi   \n",
       "2574    601-800         University of Texas at El Paso   \n",
       "2575    601-800                  Texas Tech University   \n",
       "\n",
       "                       country  teaching international  research  citations  \\\n",
       "0     United States of America      99.7          72.4      98.7       98.8   \n",
       "1     United States of America      97.7          54.6      98.0       99.9   \n",
       "2     United States of America      97.8          82.3      91.4       99.9   \n",
       "3     United States of America      98.3          29.5      98.1       99.2   \n",
       "4     United States of America      90.9          70.3      95.4       99.9   \n",
       "...                        ...       ...           ...       ...        ...   \n",
       "2527  United States of America      25.0          33.6      14.9       24.6   \n",
       "2542  United States of America      17.4          29.8      13.4       25.1   \n",
       "2564  United States of America      21.0          20.8      11.8       20.1   \n",
       "2574  United States of America      18.6          30.4      18.7       18.4   \n",
       "2575  United States of America      27.9          36.8      17.2       22.0   \n",
       "\n",
       "     income total_score num_students  student_staff_ratio  \\\n",
       "0      34.5        96.1       20,152                  8.9   \n",
       "1      83.7        96.0        2,243                  6.9   \n",
       "2      87.5        95.6       11,074                  9.0   \n",
       "3      64.3        94.3       15,596                  7.8   \n",
       "4         -        94.2        7,929                  8.4   \n",
       "...     ...         ...          ...                  ...   \n",
       "2527   30.1           -       22,224                 20.0   \n",
       "2542   30.4           -       12,965                 13.5   \n",
       "2564   39.9           -       14,569                 18.5   \n",
       "2574      -           -       19,123                 29.0   \n",
       "2575      -           -       29,512                 20.9   \n",
       "\n",
       "     international_students female_male_ratio  year  \n",
       "0                       25%               NaN  2011  \n",
       "1                       27%           33 : 67  2011  \n",
       "2                       33%           37 : 63  2011  \n",
       "3                       22%           42 : 58  2011  \n",
       "4                       27%           45 : 55  2011  \n",
       "...                     ...               ...   ...  \n",
       "2527                    10%           50 : 50  2016  \n",
       "2542                    13%           34 : 66  2016  \n",
       "2564                     3%           63 : 37  2016  \n",
       "2574                     7%           54 : 46  2016  \n",
       "2575                     7%           46 : 54  2016  \n",
       "\n",
       "[659 rows x 14 columns]"
      ]
     },
     "execution_count": 147,
     "metadata": {},
     "output_type": "execute_result"
    }
   ],
   "source": [
    "df_usa = df[df[\"country\"]==\"United States of America\"].copy()\n",
    "df_usa"
   ]
  },
  {
   "cell_type": "code",
   "execution_count": 148,
   "metadata": {},
   "outputs": [
    {
     "data": {
      "text/html": [
       "<div>\n",
       "<style scoped>\n",
       "    .dataframe tbody tr th:only-of-type {\n",
       "        vertical-align: middle;\n",
       "    }\n",
       "\n",
       "    .dataframe tbody tr th {\n",
       "        vertical-align: top;\n",
       "    }\n",
       "\n",
       "    .dataframe thead th {\n",
       "        text-align: right;\n",
       "    }\n",
       "</style>\n",
       "<table border=\"1\" class=\"dataframe\">\n",
       "  <thead>\n",
       "    <tr style=\"text-align: right;\">\n",
       "      <th></th>\n",
       "      <th>world_rank</th>\n",
       "      <th>university_name</th>\n",
       "      <th>country</th>\n",
       "      <th>teaching</th>\n",
       "      <th>international</th>\n",
       "      <th>research</th>\n",
       "      <th>citations</th>\n",
       "      <th>income</th>\n",
       "      <th>total_score</th>\n",
       "      <th>num_students</th>\n",
       "      <th>student_staff_ratio</th>\n",
       "      <th>international_students</th>\n",
       "      <th>female_male_ratio</th>\n",
       "      <th>year</th>\n",
       "    </tr>\n",
       "  </thead>\n",
       "  <tbody>\n",
       "    <tr>\n",
       "      <th>0</th>\n",
       "      <td>1</td>\n",
       "      <td>Harvard University</td>\n",
       "      <td>United States of America</td>\n",
       "      <td>99.7</td>\n",
       "      <td>72.4</td>\n",
       "      <td>98.7</td>\n",
       "      <td>98.8</td>\n",
       "      <td>34.5</td>\n",
       "      <td>96.1</td>\n",
       "      <td>20,152</td>\n",
       "      <td>8.9</td>\n",
       "      <td>25%</td>\n",
       "      <td>NaN</td>\n",
       "      <td>2011</td>\n",
       "    </tr>\n",
       "    <tr>\n",
       "      <th>1</th>\n",
       "      <td>2</td>\n",
       "      <td>California Institute of Technology</td>\n",
       "      <td>United States of America</td>\n",
       "      <td>97.7</td>\n",
       "      <td>54.6</td>\n",
       "      <td>98.0</td>\n",
       "      <td>99.9</td>\n",
       "      <td>83.7</td>\n",
       "      <td>96.0</td>\n",
       "      <td>2,243</td>\n",
       "      <td>6.9</td>\n",
       "      <td>27%</td>\n",
       "      <td>33 : 67</td>\n",
       "      <td>2011</td>\n",
       "    </tr>\n",
       "    <tr>\n",
       "      <th>2</th>\n",
       "      <td>3</td>\n",
       "      <td>Massachusetts Institute of Technology</td>\n",
       "      <td>United States of America</td>\n",
       "      <td>97.8</td>\n",
       "      <td>82.3</td>\n",
       "      <td>91.4</td>\n",
       "      <td>99.9</td>\n",
       "      <td>87.5</td>\n",
       "      <td>95.6</td>\n",
       "      <td>11,074</td>\n",
       "      <td>9.0</td>\n",
       "      <td>33%</td>\n",
       "      <td>37 : 63</td>\n",
       "      <td>2011</td>\n",
       "    </tr>\n",
       "    <tr>\n",
       "      <th>3</th>\n",
       "      <td>4</td>\n",
       "      <td>Stanford University</td>\n",
       "      <td>United States of America</td>\n",
       "      <td>98.3</td>\n",
       "      <td>29.5</td>\n",
       "      <td>98.1</td>\n",
       "      <td>99.2</td>\n",
       "      <td>64.3</td>\n",
       "      <td>94.3</td>\n",
       "      <td>15,596</td>\n",
       "      <td>7.8</td>\n",
       "      <td>22%</td>\n",
       "      <td>42 : 58</td>\n",
       "      <td>2011</td>\n",
       "    </tr>\n",
       "    <tr>\n",
       "      <th>4</th>\n",
       "      <td>5</td>\n",
       "      <td>Princeton University</td>\n",
       "      <td>United States of America</td>\n",
       "      <td>90.9</td>\n",
       "      <td>70.3</td>\n",
       "      <td>95.4</td>\n",
       "      <td>99.9</td>\n",
       "      <td>-</td>\n",
       "      <td>94.2</td>\n",
       "      <td>7,929</td>\n",
       "      <td>8.4</td>\n",
       "      <td>27%</td>\n",
       "      <td>45 : 55</td>\n",
       "      <td>2011</td>\n",
       "    </tr>\n",
       "    <tr>\n",
       "      <th>...</th>\n",
       "      <td>...</td>\n",
       "      <td>...</td>\n",
       "      <td>...</td>\n",
       "      <td>...</td>\n",
       "      <td>...</td>\n",
       "      <td>...</td>\n",
       "      <td>...</td>\n",
       "      <td>...</td>\n",
       "      <td>...</td>\n",
       "      <td>...</td>\n",
       "      <td>...</td>\n",
       "      <td>...</td>\n",
       "      <td>...</td>\n",
       "      <td>...</td>\n",
       "    </tr>\n",
       "    <tr>\n",
       "      <th>2527</th>\n",
       "      <td>601-800</td>\n",
       "      <td>Ohio University</td>\n",
       "      <td>United States of America</td>\n",
       "      <td>25.0</td>\n",
       "      <td>33.6</td>\n",
       "      <td>14.9</td>\n",
       "      <td>24.6</td>\n",
       "      <td>30.1</td>\n",
       "      <td>-</td>\n",
       "      <td>22,224</td>\n",
       "      <td>20.0</td>\n",
       "      <td>10%</td>\n",
       "      <td>50 : 50</td>\n",
       "      <td>2016</td>\n",
       "    </tr>\n",
       "    <tr>\n",
       "      <th>2542</th>\n",
       "      <td>601-800</td>\n",
       "      <td>Rochester Institute of Technology</td>\n",
       "      <td>United States of America</td>\n",
       "      <td>17.4</td>\n",
       "      <td>29.8</td>\n",
       "      <td>13.4</td>\n",
       "      <td>25.1</td>\n",
       "      <td>30.4</td>\n",
       "      <td>-</td>\n",
       "      <td>12,965</td>\n",
       "      <td>13.5</td>\n",
       "      <td>13%</td>\n",
       "      <td>34 : 66</td>\n",
       "      <td>2016</td>\n",
       "    </tr>\n",
       "    <tr>\n",
       "      <th>2564</th>\n",
       "      <td>601-800</td>\n",
       "      <td>University of Southern Mississippi</td>\n",
       "      <td>United States of America</td>\n",
       "      <td>21.0</td>\n",
       "      <td>20.8</td>\n",
       "      <td>11.8</td>\n",
       "      <td>20.1</td>\n",
       "      <td>39.9</td>\n",
       "      <td>-</td>\n",
       "      <td>14,569</td>\n",
       "      <td>18.5</td>\n",
       "      <td>3%</td>\n",
       "      <td>63 : 37</td>\n",
       "      <td>2016</td>\n",
       "    </tr>\n",
       "    <tr>\n",
       "      <th>2574</th>\n",
       "      <td>601-800</td>\n",
       "      <td>University of Texas at El Paso</td>\n",
       "      <td>United States of America</td>\n",
       "      <td>18.6</td>\n",
       "      <td>30.4</td>\n",
       "      <td>18.7</td>\n",
       "      <td>18.4</td>\n",
       "      <td>-</td>\n",
       "      <td>-</td>\n",
       "      <td>19,123</td>\n",
       "      <td>29.0</td>\n",
       "      <td>7%</td>\n",
       "      <td>54 : 46</td>\n",
       "      <td>2016</td>\n",
       "    </tr>\n",
       "    <tr>\n",
       "      <th>2575</th>\n",
       "      <td>601-800</td>\n",
       "      <td>Texas Tech University</td>\n",
       "      <td>United States of America</td>\n",
       "      <td>27.9</td>\n",
       "      <td>36.8</td>\n",
       "      <td>17.2</td>\n",
       "      <td>22.0</td>\n",
       "      <td>-</td>\n",
       "      <td>-</td>\n",
       "      <td>29,512</td>\n",
       "      <td>20.9</td>\n",
       "      <td>7%</td>\n",
       "      <td>46 : 54</td>\n",
       "      <td>2016</td>\n",
       "    </tr>\n",
       "  </tbody>\n",
       "</table>\n",
       "<p>659 rows × 14 columns</p>\n",
       "</div>"
      ],
      "text/plain": [
       "     world_rank                        university_name  \\\n",
       "0             1                     Harvard University   \n",
       "1             2     California Institute of Technology   \n",
       "2             3  Massachusetts Institute of Technology   \n",
       "3             4                    Stanford University   \n",
       "4             5                   Princeton University   \n",
       "...         ...                                    ...   \n",
       "2527    601-800                        Ohio University   \n",
       "2542    601-800      Rochester Institute of Technology   \n",
       "2564    601-800     University of Southern Mississippi   \n",
       "2574    601-800         University of Texas at El Paso   \n",
       "2575    601-800                  Texas Tech University   \n",
       "\n",
       "                       country  teaching international  research  citations  \\\n",
       "0     United States of America      99.7          72.4      98.7       98.8   \n",
       "1     United States of America      97.7          54.6      98.0       99.9   \n",
       "2     United States of America      97.8          82.3      91.4       99.9   \n",
       "3     United States of America      98.3          29.5      98.1       99.2   \n",
       "4     United States of America      90.9          70.3      95.4       99.9   \n",
       "...                        ...       ...           ...       ...        ...   \n",
       "2527  United States of America      25.0          33.6      14.9       24.6   \n",
       "2542  United States of America      17.4          29.8      13.4       25.1   \n",
       "2564  United States of America      21.0          20.8      11.8       20.1   \n",
       "2574  United States of America      18.6          30.4      18.7       18.4   \n",
       "2575  United States of America      27.9          36.8      17.2       22.0   \n",
       "\n",
       "     income total_score num_students  student_staff_ratio  \\\n",
       "0      34.5        96.1       20,152                  8.9   \n",
       "1      83.7        96.0        2,243                  6.9   \n",
       "2      87.5        95.6       11,074                  9.0   \n",
       "3      64.3        94.3       15,596                  7.8   \n",
       "4         -        94.2        7,929                  8.4   \n",
       "...     ...         ...          ...                  ...   \n",
       "2527   30.1           -       22,224                 20.0   \n",
       "2542   30.4           -       12,965                 13.5   \n",
       "2564   39.9           -       14,569                 18.5   \n",
       "2574      -           -       19,123                 29.0   \n",
       "2575      -           -       29,512                 20.9   \n",
       "\n",
       "     international_students female_male_ratio  year  \n",
       "0                       25%               NaN  2011  \n",
       "1                       27%           33 : 67  2011  \n",
       "2                       33%           37 : 63  2011  \n",
       "3                       22%           42 : 58  2011  \n",
       "4                       27%           45 : 55  2011  \n",
       "...                     ...               ...   ...  \n",
       "2527                    10%           50 : 50  2016  \n",
       "2542                    13%           34 : 66  2016  \n",
       "2564                     3%           63 : 37  2016  \n",
       "2574                     7%           54 : 46  2016  \n",
       "2575                     7%           46 : 54  2016  \n",
       "\n",
       "[659 rows x 14 columns]"
      ]
     },
     "execution_count": 148,
     "metadata": {},
     "output_type": "execute_result"
    }
   ],
   "source": [
    "df_usatr = df[df[\"country\"]==\"United States of America\"].copy()\n",
    "df_usatr"
   ]
  },
  {
   "cell_type": "code",
   "execution_count": 149,
   "metadata": {},
   "outputs": [
    {
     "data": {
      "text/plain": [
       "111         NaN\n",
       "182     44 : 56\n",
       "401         NaN\n",
       "480     34 : 66\n",
       "482     44 : 56\n",
       "506     50 : 50\n",
       "808     44 : 56\n",
       "827         NaN\n",
       "834     52 : 48\n",
       "881     50 : 50\n",
       "884     34 : 66\n",
       "1200    50 : 50\n",
       "1207    34 : 66\n",
       "1210    44 : 56\n",
       "1229        NaN\n",
       "1281    52 : 48\n",
       "1486    44 : 56\n",
       "1540    50 : 50\n",
       "1566    34 : 66\n",
       "1584    39 : 61\n",
       "1603        NaN\n",
       "1715    52 : 48\n",
       "2075    52 : 48\n",
       "2153        NaN\n",
       "2183    39 : 61\n",
       "2313    50 : 50\n",
       "2337    34 : 66\n",
       "2356    44 : 56\n",
       "2413    78 : 22\n",
       "2461    46 : 54\n",
       "2478    56 : 44\n",
       "2485    44 : 56\n",
       "2599    36 : 64\n",
       "Name: female_male_ratio, dtype: object"
      ]
     },
     "execution_count": 149,
     "metadata": {},
     "output_type": "execute_result"
    }
   ],
   "source": [
    "df_tr[\"female_male_ratio\"]"
   ]
  },
  {
   "cell_type": "code",
   "execution_count": 150,
   "metadata": {},
   "outputs": [
    {
     "data": {
      "text/plain": [
       "<seaborn.axisgrid.FacetGrid at 0x1db5f73ceb8>"
      ]
     },
     "execution_count": 150,
     "metadata": {},
     "output_type": "execute_result"
    },
    {
     "data": {
      "image/png": "[encoded data removed]",
      "text/plain": [
       "<Figure size 360x360 with 1 Axes>"
      ]
     },
     "metadata": {},
     "output_type": "display_data"
    }
   ],
   "source": [
    "sns.catplot(x= \"year\", y=\"female_male_ratio\",data=df_tr)"
   ]
  },
  {
   "cell_type": "code",
   "execution_count": 151,
   "metadata": {},
   "outputs": [],
   "source": [
    "#Amerika ve Türkiye için oluşturduğum data frameleri birleştiriyorum. Biraz basit bir şekilde yazdım, daha doğrusunu bilen lütfen bana iletsin."
   ]
  },
  {
   "cell_type": "code",
   "execution_count": 152,
   "metadata": {},
   "outputs": [],
   "source": [
    "df_usatr = pd.concat([df_tr,df_usa])"
   ]
  },
  {
   "cell_type": "code",
   "execution_count": 153,
   "metadata": {},
   "outputs": [
    {
     "data": {
      "text/html": [
       "<div>\n",
       "<style scoped>\n",
       "    .dataframe tbody tr th:only-of-type {\n",
       "        vertical-align: middle;\n",
       "    }\n",
       "\n",
       "    .dataframe tbody tr th {\n",
       "        vertical-align: top;\n",
       "    }\n",
       "\n",
       "    .dataframe thead th {\n",
       "        text-align: right;\n",
       "    }\n",
       "</style>\n",
       "<table border=\"1\" class=\"dataframe\">\n",
       "  <thead>\n",
       "    <tr style=\"text-align: right;\">\n",
       "      <th></th>\n",
       "      <th>world_rank</th>\n",
       "      <th>university_name</th>\n",
       "      <th>country</th>\n",
       "      <th>teaching</th>\n",
       "      <th>international</th>\n",
       "      <th>research</th>\n",
       "      <th>citations</th>\n",
       "      <th>income</th>\n",
       "      <th>total_score</th>\n",
       "      <th>num_students</th>\n",
       "      <th>student_staff_ratio</th>\n",
       "      <th>international_students</th>\n",
       "      <th>female_male_ratio</th>\n",
       "      <th>year</th>\n",
       "    </tr>\n",
       "  </thead>\n",
       "  <tbody>\n",
       "    <tr>\n",
       "      <th>111</th>\n",
       "      <td>112</td>\n",
       "      <td>Bilkent University</td>\n",
       "      <td>Turkey</td>\n",
       "      <td>34.3</td>\n",
       "      <td>47.7</td>\n",
       "      <td>36.1</td>\n",
       "      <td>95.7</td>\n",
       "      <td>32.4</td>\n",
       "      <td>55.4</td>\n",
       "      <td>NaN</td>\n",
       "      <td>18.445283</td>\n",
       "      <td>NaN</td>\n",
       "      <td>NaN</td>\n",
       "      <td>2011</td>\n",
       "    </tr>\n",
       "    <tr>\n",
       "      <th>182</th>\n",
       "      <td>183</td>\n",
       "      <td>Middle East Technical University</td>\n",
       "      <td>Turkey</td>\n",
       "      <td>39.5</td>\n",
       "      <td>27.2</td>\n",
       "      <td>39.5</td>\n",
       "      <td>66.4</td>\n",
       "      <td>43.9</td>\n",
       "      <td>47.7</td>\n",
       "      <td>25,779</td>\n",
       "      <td>22.200000</td>\n",
       "      <td>7%</td>\n",
       "      <td>44 : 56</td>\n",
       "      <td>2011</td>\n",
       "    </tr>\n",
       "    <tr>\n",
       "      <th>401</th>\n",
       "      <td>201-225</td>\n",
       "      <td>Bilkent University</td>\n",
       "      <td>Turkey</td>\n",
       "      <td>27.9</td>\n",
       "      <td>48.5</td>\n",
       "      <td>22.3</td>\n",
       "      <td>60.8</td>\n",
       "      <td>29.4</td>\n",
       "      <td>-</td>\n",
       "      <td>NaN</td>\n",
       "      <td>18.445283</td>\n",
       "      <td>NaN</td>\n",
       "      <td>NaN</td>\n",
       "      <td>2012</td>\n",
       "    </tr>\n",
       "    <tr>\n",
       "      <th>480</th>\n",
       "      <td>276-300</td>\n",
       "      <td>Istanbul Technical University</td>\n",
       "      <td>Turkey</td>\n",
       "      <td>25.1</td>\n",
       "      <td>18.9</td>\n",
       "      <td>18.2</td>\n",
       "      <td>48.9</td>\n",
       "      <td>99.1</td>\n",
       "      <td>-</td>\n",
       "      <td>34,550</td>\n",
       "      <td>16.000000</td>\n",
       "      <td>5%</td>\n",
       "      <td>34 : 66</td>\n",
       "      <td>2012</td>\n",
       "    </tr>\n",
       "    <tr>\n",
       "      <th>482</th>\n",
       "      <td>276-300</td>\n",
       "      <td>Middle East Technical University</td>\n",
       "      <td>Turkey</td>\n",
       "      <td>37.0</td>\n",
       "      <td>23.5</td>\n",
       "      <td>28.9</td>\n",
       "      <td>35.1</td>\n",
       "      <td>43.2</td>\n",
       "      <td>-</td>\n",
       "      <td>25,779</td>\n",
       "      <td>22.200000</td>\n",
       "      <td>7%</td>\n",
       "      <td>44 : 56</td>\n",
       "      <td>2012</td>\n",
       "    </tr>\n",
       "    <tr>\n",
       "      <th>...</th>\n",
       "      <td>...</td>\n",
       "      <td>...</td>\n",
       "      <td>...</td>\n",
       "      <td>...</td>\n",
       "      <td>...</td>\n",
       "      <td>...</td>\n",
       "      <td>...</td>\n",
       "      <td>...</td>\n",
       "      <td>...</td>\n",
       "      <td>...</td>\n",
       "      <td>...</td>\n",
       "      <td>...</td>\n",
       "      <td>...</td>\n",
       "      <td>...</td>\n",
       "    </tr>\n",
       "    <tr>\n",
       "      <th>2527</th>\n",
       "      <td>601-800</td>\n",
       "      <td>Ohio University</td>\n",
       "      <td>United States of America</td>\n",
       "      <td>25.0</td>\n",
       "      <td>33.6</td>\n",
       "      <td>14.9</td>\n",
       "      <td>24.6</td>\n",
       "      <td>30.1</td>\n",
       "      <td>-</td>\n",
       "      <td>22,224</td>\n",
       "      <td>20.000000</td>\n",
       "      <td>10%</td>\n",
       "      <td>50 : 50</td>\n",
       "      <td>2016</td>\n",
       "    </tr>\n",
       "    <tr>\n",
       "      <th>2542</th>\n",
       "      <td>601-800</td>\n",
       "      <td>Rochester Institute of Technology</td>\n",
       "      <td>United States of America</td>\n",
       "      <td>17.4</td>\n",
       "      <td>29.8</td>\n",
       "      <td>13.4</td>\n",
       "      <td>25.1</td>\n",
       "      <td>30.4</td>\n",
       "      <td>-</td>\n",
       "      <td>12,965</td>\n",
       "      <td>13.500000</td>\n",
       "      <td>13%</td>\n",
       "      <td>34 : 66</td>\n",
       "      <td>2016</td>\n",
       "    </tr>\n",
       "    <tr>\n",
       "      <th>2564</th>\n",
       "      <td>601-800</td>\n",
       "      <td>University of Southern Mississippi</td>\n",
       "      <td>United States of America</td>\n",
       "      <td>21.0</td>\n",
       "      <td>20.8</td>\n",
       "      <td>11.8</td>\n",
       "      <td>20.1</td>\n",
       "      <td>39.9</td>\n",
       "      <td>-</td>\n",
       "      <td>14,569</td>\n",
       "      <td>18.500000</td>\n",
       "      <td>3%</td>\n",
       "      <td>63 : 37</td>\n",
       "      <td>2016</td>\n",
       "    </tr>\n",
       "    <tr>\n",
       "      <th>2574</th>\n",
       "      <td>601-800</td>\n",
       "      <td>University of Texas at El Paso</td>\n",
       "      <td>United States of America</td>\n",
       "      <td>18.6</td>\n",
       "      <td>30.4</td>\n",
       "      <td>18.7</td>\n",
       "      <td>18.4</td>\n",
       "      <td>-</td>\n",
       "      <td>-</td>\n",
       "      <td>19,123</td>\n",
       "      <td>29.000000</td>\n",
       "      <td>7%</td>\n",
       "      <td>54 : 46</td>\n",
       "      <td>2016</td>\n",
       "    </tr>\n",
       "    <tr>\n",
       "      <th>2575</th>\n",
       "      <td>601-800</td>\n",
       "      <td>Texas Tech University</td>\n",
       "      <td>United States of America</td>\n",
       "      <td>27.9</td>\n",
       "      <td>36.8</td>\n",
       "      <td>17.2</td>\n",
       "      <td>22.0</td>\n",
       "      <td>-</td>\n",
       "      <td>-</td>\n",
       "      <td>29,512</td>\n",
       "      <td>20.900000</td>\n",
       "      <td>7%</td>\n",
       "      <td>46 : 54</td>\n",
       "      <td>2016</td>\n",
       "    </tr>\n",
       "  </tbody>\n",
       "</table>\n",
       "<p>692 rows × 14 columns</p>\n",
       "</div>"
      ],
      "text/plain": [
       "     world_rank                     university_name                   country  \\\n",
       "111         112                  Bilkent University                    Turkey   \n",
       "182         183    Middle East Technical University                    Turkey   \n",
       "401     201-225                  Bilkent University                    Turkey   \n",
       "480     276-300       Istanbul Technical University                    Turkey   \n",
       "482     276-300    Middle East Technical University                    Turkey   \n",
       "...         ...                                 ...                       ...   \n",
       "2527    601-800                     Ohio University  United States of America   \n",
       "2542    601-800   Rochester Institute of Technology  United States of America   \n",
       "2564    601-800  University of Southern Mississippi  United States of America   \n",
       "2574    601-800      University of Texas at El Paso  United States of America   \n",
       "2575    601-800               Texas Tech University  United States of America   \n",
       "\n",
       "      teaching international  research  citations income total_score  \\\n",
       "111       34.3          47.7      36.1       95.7   32.4        55.4   \n",
       "182       39.5          27.2      39.5       66.4   43.9        47.7   \n",
       "401       27.9          48.5      22.3       60.8   29.4           -   \n",
       "480       25.1          18.9      18.2       48.9   99.1           -   \n",
       "482       37.0          23.5      28.9       35.1   43.2           -   \n",
       "...        ...           ...       ...        ...    ...         ...   \n",
       "2527      25.0          33.6      14.9       24.6   30.1           -   \n",
       "2542      17.4          29.8      13.4       25.1   30.4           -   \n",
       "2564      21.0          20.8      11.8       20.1   39.9           -   \n",
       "2574      18.6          30.4      18.7       18.4      -           -   \n",
       "2575      27.9          36.8      17.2       22.0      -           -   \n",
       "\n",
       "     num_students  student_staff_ratio international_students  \\\n",
       "111           NaN            18.445283                    NaN   \n",
       "182        25,779            22.200000                     7%   \n",
       "401           NaN            18.445283                    NaN   \n",
       "480        34,550            16.000000                     5%   \n",
       "482        25,779            22.200000                     7%   \n",
       "...           ...                  ...                    ...   \n",
       "2527       22,224            20.000000                    10%   \n",
       "2542       12,965            13.500000                    13%   \n",
       "2564       14,569            18.500000                     3%   \n",
       "2574       19,123            29.000000                     7%   \n",
       "2575       29,512            20.900000                     7%   \n",
       "\n",
       "     female_male_ratio  year  \n",
       "111                NaN  2011  \n",
       "182            44 : 56  2011  \n",
       "401                NaN  2012  \n",
       "480            34 : 66  2012  \n",
       "482            44 : 56  2012  \n",
       "...                ...   ...  \n",
       "2527           50 : 50  2016  \n",
       "2542           34 : 66  2016  \n",
       "2564           63 : 37  2016  \n",
       "2574           54 : 46  2016  \n",
       "2575           46 : 54  2016  \n",
       "\n",
       "[692 rows x 14 columns]"
      ]
     },
     "execution_count": 153,
     "metadata": {},
     "output_type": "execute_result"
    }
   ],
   "source": [
    "df_usatr"
   ]
  },
  {
   "cell_type": "markdown",
   "metadata": {},
   "source": []
  },
  {
   "cell_type": "code",
   "execution_count": 154,
   "metadata": {},
   "outputs": [],
   "source": [
    "#Aşağıdaki kodu şu linkten aldım:https://stackoverflow.com/questions/35692781/python-plotting-percentage-in-seaborn-bar-plot"
   ]
  },
  {
   "cell_type": "code",
   "execution_count": 155,
   "metadata": {},
   "outputs": [],
   "source": [
    "def with_hue(plot, feature, Number_of_categories, hue_categories):\n",
    "    a = [p.get_height() for p in plot.patches]\n",
    "    patch = [p for p in plot.patches]\n",
    "    for i in range(Number_of_categories):\n",
    "        total = feature.value_counts().values[i]\n",
    "        for j in range(hue_categories):\n",
    "            percentage = '{:.1f}%'.format(100 * a[(j*Number_of_categories + i)]/total)\n",
    "            x = patch[(j*Number_of_categories + i)].get_x() + patch[(j*Number_of_categories + i)].get_width() / 2 - 0.15\n",
    "            y = patch[(j*Number_of_categories + i)].get_y() + patch[(j*Number_of_categories + i)].get_height() \n",
    "            ax.annotate(percentage, (x, y), size = 12)\n",
    "    plt.show()\n",
    "\n",
    "def without_hue(plot, feature):\n",
    "    total = len(feature)\n",
    "    for p in ax.patches:\n",
    "        percentage = '{:.1f}%'.format(100 * p.get_height()/total)\n",
    "        x = p.get_x() + p.get_width() / 2 - 0.05\n",
    "        y = p.get_y() + p.get_height()\n",
    "        ax.annotate(percentage, (x, y), size = 12)\n",
    "    plt.show()\n"
   ]
  },
  {
   "cell_type": "code",
   "execution_count": 156,
   "metadata": {},
   "outputs": [
    {
     "name": "stderr",
     "output_type": "stream",
     "text": [
      "C:\\Anaconda3\\envs\\env2\\lib\\site-packages\\seaborn\\_decorators.py:43: FutureWarning:\n",
      "\n",
      "Pass the following variable as a keyword arg: x. From version 0.12, the only valid positional argument will be `data`, and passing other arguments without an explicit keyword will result in an error or misinterpretation.\n",
      "\n"
     ]
    },
    {
     "data": {
      "image/png": "[encoded data removed]",
      "text/plain": [
       "<Figure size 720x360 with 1 Axes>"
      ]
     },
     "metadata": {},
     "output_type": "display_data"
    }
   ],
   "source": [
    "plt.figure(figsize=(10,5))\n",
    "ax = sns.countplot(\"country\", data=df_usatr) \n",
    "plt.xticks(size=12)\n",
    "plt.xlabel(\"country\",size=12)\n",
    "plt.yticks(size=12)\n",
    "plt.ylabel(\"count\",size=12)\n",
    "\n",
    "without_hue(ax, df.country)"
   ]
  },
  {
   "cell_type": "code",
   "execution_count": 157,
   "metadata": {},
   "outputs": [],
   "source": [
    "#Bütün ülkelerin olduğu grafik"
   ]
  },
  {
   "cell_type": "code",
   "execution_count": 158,
   "metadata": {},
   "outputs": [
    {
     "data": {
      "image/png": "[encoded data removed]",
      "text/plain": [
       "<Figure size 1080x1440 with 1 Axes>"
      ]
     },
     "metadata": {},
     "output_type": "display_data"
    }
   ],
   "source": [
    "ax=df[\"country\"].value_counts().plot.barh(figsize=(15,20),\n",
    "                                      )#label=\"big\"\n",
    "ax.axes.set_title(\"Ülkelerdeki Üniversite Sayıları\",fontsize=30)\n",
    "ax.legend( fontsize=12,bbox_to_anchor=(0,1.1))\n",
    "ax.set_xlabel('Üniversite Sayıları',fontsize=20);\n",
    "ax.set_ylabel('Ülkeler',fontsize=20);"
   ]
  },
  {
   "cell_type": "markdown",
   "metadata": {},
   "source": [
    "# Worldcloud\n",
    "Worldcloud'u yaparken buradan baktım:https://www.kaggle.com/kanncaa1/plotly-tutorial-for-beginners"
   ]
  },
  {
   "cell_type": "code",
   "execution_count": 159,
   "metadata": {},
   "outputs": [
    {
     "data": {
      "image/png": "[encoded data removed]",
      "text/plain": [
       "<Figure size 576x576 with 1 Axes>"
      ]
     },
     "metadata": {},
     "output_type": "display_data"
    }
   ],
   "source": [
    "# data prepararion\n",
    "x2016 = df.country[df.year == 2016]\n",
    "plt.subplots(figsize=(8,8))\n",
    "wordcloud = WordCloud(\n",
    "                          background_color='white',\n",
    "                          width=512,\n",
    "                          height=384\n",
    "                         ).generate(\" \".join(x2016))\n",
    "plt.imshow(wordcloud)\n",
    "plt.axis('off')\n",
    "plt.show()"
   ]
  },
  {
   "cell_type": "code",
   "execution_count": 74,
   "metadata": {},
   "outputs": [],
   "source": [
    "#ülkelerin atıf sayılarını gösterdiğim grafik"
   ]
  },
  {
   "cell_type": "code",
   "execution_count": 75,
   "metadata": {},
   "outputs": [
    {
     "data": {
      "text/plain": [
       "<AxesSubplot:xlabel='citations', ylabel='country'>"
      ]
     },
     "execution_count": 75,
     "metadata": {},
     "output_type": "execute_result"
    },
    {
     "data": {
      "image/png": "[encoded data removed]",
      "text/plain": [
       "<Figure size 842.4x595.44 with 1 Axes>"
      ]
     },
     "metadata": {},
     "output_type": "display_data"
    }
   ],
   "source": [
    "sns.barplot(x=\"citations\",y=\"country\",data=df)\n"
   ]
  },
  {
   "cell_type": "code",
   "execution_count": 76,
   "metadata": {},
   "outputs": [
    {
     "data": {
      "text/plain": [
       "<AxesSubplot:>"
      ]
     },
     "execution_count": 76,
     "metadata": {},
     "output_type": "execute_result"
    },
    {
     "data": {
      "image/png": "[encoded data removed]",
      "text/plain": [
       "<Figure size 1440x720 with 1 Axes>"
      ]
     },
     "metadata": {},
     "output_type": "display_data"
    }
   ],
   "source": [
    "df[\"citations\"].value_counts().head(30).plot(kind='barh', figsize=(20,10))\n"
   ]
  },
  {
   "cell_type": "code",
   "execution_count": 77,
   "metadata": {},
   "outputs": [
    {
     "data": {
      "text/plain": [
       "Index(['world_rank', 'university_name', 'country', 'teaching', 'international',\n",
       "       'research', 'citations', 'income', 'total_score', 'num_students',\n",
       "       'student_staff_ratio', 'international_students', 'female_male_ratio',\n",
       "       'year'],\n",
       "      dtype='object')"
      ]
     },
     "execution_count": 77,
     "metadata": {},
     "output_type": "execute_result"
    }
   ],
   "source": [
    "df.columns"
   ]
  },
  {
   "cell_type": "code",
   "execution_count": 78,
   "metadata": {},
   "outputs": [],
   "source": [
    "#mean=df[\"country\"].value_counts().mean()\n",
    "#median=df[\"country\"].value_counts().median()"
   ]
  },
  {
   "cell_type": "code",
   "execution_count": 79,
   "metadata": {},
   "outputs": [],
   "source": [
    "df_countries=df[\"country\"].value_counts()\n",
    "#df_countries"
   ]
  },
  {
   "cell_type": "code",
   "execution_count": 80,
   "metadata": {},
   "outputs": [],
   "source": [
    "#df_countries.loc[\"Average\"]=36"
   ]
  },
  {
   "cell_type": "code",
   "execution_count": 81,
   "metadata": {},
   "outputs": [],
   "source": [
    "#df_countries.plot.barh(figsize=(15,28))"
   ]
  },
  {
   "cell_type": "code",
   "execution_count": null,
   "metadata": {},
   "outputs": [],
   "source": []
  },
  {
   "cell_type": "code",
   "execution_count": 82,
   "metadata": {},
   "outputs": [
    {
     "data": {
      "text/plain": [
       "<AxesSubplot:>"
      ]
     },
     "execution_count": 82,
     "metadata": {},
     "output_type": "execute_result"
    },
    {
     "data": {
      "image/png": "[encoded data removed]",
      "text/plain": [
       "<Figure size 1080x2016 with 1 Axes>"
      ]
     },
     "metadata": {},
     "output_type": "display_data"
    }
   ],
   "source": [
    "df[\"country\"].value_counts().plot.barh(figsize=(15,28),color=\"red\")"
   ]
  },
  {
   "cell_type": "code",
   "execution_count": 83,
   "metadata": {},
   "outputs": [],
   "source": [
    "#daha sonra üstteki grafikteki her değerin renklerini değere göre değiştireceğim"
   ]
  },
  {
   "cell_type": "markdown",
   "metadata": {},
   "source": [
    "# Bar chart raise kullanımı\n",
    "Bar chart raise kullanarak video ülkelerin listedeki üniversite sayısını videoya dönüştürme."
   ]
  },
  {
   "cell_type": "code",
   "execution_count": 84,
   "metadata": {},
   "outputs": [
    {
     "ename": "ModuleNotFoundError",
     "evalue": "No module named 'ffmpeg'",
     "output_type": "error",
     "traceback": [
      "\u001b[1;31m---------------------------------------------------------------------------\u001b[0m",
      "\u001b[1;31mModuleNotFoundError\u001b[0m                       Traceback (most recent call last)",
      "\u001b[1;32m<ipython-input-84-a3da38374701>\u001b[0m in \u001b[0;36m<module>\u001b[1;34m\u001b[0m\n\u001b[1;32m----> 1\u001b[1;33m \u001b[1;32mimport\u001b[0m \u001b[0mffmpeg\u001b[0m\u001b[1;33m\u001b[0m\u001b[1;33m\u001b[0m\u001b[0m\n\u001b[0m\u001b[0;32m      2\u001b[0m \u001b[1;32mfrom\u001b[0m \u001b[0mmatplotlib\u001b[0m\u001b[1;33m.\u001b[0m\u001b[0manimation\u001b[0m \u001b[1;32mimport\u001b[0m \u001b[0mFuncAnimation\u001b[0m\u001b[1;33m\u001b[0m\u001b[1;33m\u001b[0m\u001b[0m\n\u001b[0;32m      3\u001b[0m \u001b[1;32mimport\u001b[0m \u001b[0mbar_chart_race\u001b[0m \u001b[1;32mas\u001b[0m \u001b[0mbcr\u001b[0m\u001b[1;33m\u001b[0m\u001b[1;33m\u001b[0m\u001b[0m\n\u001b[0;32m      4\u001b[0m \u001b[1;32mimport\u001b[0m \u001b[0msubprocess\u001b[0m \u001b[1;32mas\u001b[0m \u001b[0msp\u001b[0m\u001b[1;33m\u001b[0m\u001b[1;33m\u001b[0m\u001b[0m\n",
      "\u001b[1;31mModuleNotFoundError\u001b[0m: No module named 'ffmpeg'"
     ]
    }
   ],
   "source": [
    "import ffmpeg\n",
    "from matplotlib.animation import FuncAnimation\n",
    "import bar_chart_race as bcr\n",
    "import subprocess as sp"
   ]
  },
  {
   "cell_type": "code",
   "execution_count": null,
   "metadata": {},
   "outputs": [],
   "source": [
    "df.dtypes"
   ]
  },
  {
   "cell_type": "code",
   "execution_count": null,
   "metadata": {},
   "outputs": [],
   "source": [
    "df.columns"
   ]
  },
  {
   "cell_type": "code",
   "execution_count": null,
   "metadata": {},
   "outputs": [],
   "source": [
    "s = df[\"country\"]"
   ]
  },
  {
   "cell_type": "code",
   "execution_count": null,
   "metadata": {},
   "outputs": [],
   "source": [
    "s.value_counts()"
   ]
  },
  {
   "cell_type": "code",
   "execution_count": null,
   "metadata": {},
   "outputs": [],
   "source": [
    "fig, ax = plt.subplots(figsize=(15, 8), dpi=144)\n",
    "colors = plt.cm.Dark2(range(6))\n",
    "y = s.value_counts()\n",
    "width = s.values\n",
    "bcr.bar_chart_race(y=y, width=width, color=colors);"
   ]
  },
  {
   "cell_type": "code",
   "execution_count": null,
   "metadata": {},
   "outputs": [],
   "source": [
    "bcr.bar_chart_race(df=df[])"
   ]
  },
  {
   "cell_type": "code",
   "execution_count": null,
   "metadata": {},
   "outputs": [],
   "source": [
    "#Not: Aşağıdaki bar_chart lar çalışıyordu, fakat sonra ffmpeg'den dolayı hata verdi. Tekrar bakacağım."
   ]
  },
  {
   "cell_type": "code",
   "execution_count": null,
   "metadata": {
    "scrolled": true
   },
   "outputs": [],
   "source": [
    "#bcr.bar_chart_race(df=df, title=\"Ülkelerin Liste'deki Üniversite Sayısı\")"
   ]
  },
  {
   "cell_type": "code",
   "execution_count": null,
   "metadata": {},
   "outputs": [],
   "source": [
    "#dikey şekilde gösterme"
   ]
  },
  {
   "cell_type": "code",
   "execution_count": null,
   "metadata": {},
   "outputs": [],
   "source": [
    "#bcr.bar_chart_race(df=df, title=\"Ülkelerin Liste'deki Üniversite Sayısı\",n_bars=10, orientation=\"v\")"
   ]
  },
  {
   "cell_type": "code",
   "execution_count": null,
   "metadata": {
    "scrolled": true
   },
   "outputs": [],
   "source": [
    "#bcr.bar_chart_race(df=df, title=\"Ülkelerin Liste'deki Üniversite Sayısı\",n_bars=10, orientation=\"h\", fixed_order=True, cmap=\"prism\")"
   ]
  },
  {
   "cell_type": "code",
   "execution_count": null,
   "metadata": {},
   "outputs": [],
   "source": []
  },
  {
   "cell_type": "code",
   "execution_count": null,
   "metadata": {},
   "outputs": [],
   "source": [
    "#period_length ile süreyi uzatıyorum"
   ]
  },
  {
   "cell_type": "code",
   "execution_count": null,
   "metadata": {},
   "outputs": [],
   "source": [
    "\"\"\"\"v=bcr.bar_chart_race(df=df, title=\"Ülkelerin Liste'deki Üniversite Sayısı\",\n",
    "                    orientation=\"h\",#n_bars=7 \n",
    "                   fixed_order=True, cmap=\"prism\",bar_size=.95,\n",
    "                   period_length=1000,\n",
    "                   figsize=(4,3))\n",
    "#v#ileride bunu kaydetmeye çalışacağım\"\"\""
   ]
  },
  {
   "cell_type": "code",
   "execution_count": null,
   "metadata": {},
   "outputs": [],
   "source": [
    "#pip install opencv-python"
   ]
  },
  {
   "cell_type": "code",
   "execution_count": null,
   "metadata": {},
   "outputs": [],
   "source": [
    "import cv2"
   ]
  },
  {
   "cell_type": "code",
   "execution_count": null,
   "metadata": {},
   "outputs": [],
   "source": [
    "#https://www.kaggle.com/prixeraq/times-ranking-analysis buradan aldığım kodlar"
   ]
  },
  {
   "cell_type": "code",
   "execution_count": null,
   "metadata": {},
   "outputs": [],
   "source": [
    "\"\"\"df['world_rank'] = pd.to_numeric(df['world_rank'], errors='coerce')\n",
    "df['world_rank'].fillna(101, inplace=True)\n",
    "df['world_rank'] = (df['world_rank'] * -1)\n",
    "str_cols = df.select_dtypes(['object']).columns\n",
    "df[str_cols] = df[str_cols].replace('-', 0)\n",
    "df['num_students'] = df['num_students'].str.replace(',', '')\n",
    "df['international_students'] = df['international_students'].str.replace('%', '')\n",
    "df[str_cols] = df[str_cols].apply(pd.to_numeric, errors='coerce', axis=1)\n",
    "df['international_students'] = df['international_students'] / 100\"\"\"\n"
   ]
  },
  {
   "cell_type": "code",
   "execution_count": null,
   "metadata": {},
   "outputs": [],
   "source": [
    "#income içindeki - değerleri 0'a çevirme"
   ]
  },
  {
   "cell_type": "code",
   "execution_count": null,
   "metadata": {},
   "outputs": [],
   "source": [
    "df[\"income\"] = df[\"income\"].replace(['-'],0)\n"
   ]
  },
  {
   "cell_type": "code",
   "execution_count": null,
   "metadata": {},
   "outputs": [],
   "source": [
    "df[\"income\"]=pd.to_numeric(df[\"income\"])\n",
    "df.dtypes"
   ]
  },
  {
   "cell_type": "code",
   "execution_count": null,
   "metadata": {},
   "outputs": [],
   "source": [
    "df[\"total_score\"] = df[\"total_score\"].replace(['-'],0)\n",
    "df[\"total_score\"]=pd.to_numeric(df[\"total_score\"])\n",
    "df.dtypes"
   ]
  },
  {
   "cell_type": "code",
   "execution_count": null,
   "metadata": {},
   "outputs": [],
   "source": [
    "df[\"total_score\"]"
   ]
  },
  {
   "cell_type": "code",
   "execution_count": null,
   "metadata": {},
   "outputs": [],
   "source": [
    "df[\"num_students\"]\n"
   ]
  },
  {
   "cell_type": "code",
   "execution_count": null,
   "metadata": {},
   "outputs": [],
   "source": [
    "df[\"year\"] = df[\"year\"].replace(['-'],0)\n",
    "df[\"year\"]=pd.to_numeric(df[\"year\"])\n",
    "df[\"year\"]"
   ]
  },
  {
   "cell_type": "code",
   "execution_count": null,
   "metadata": {},
   "outputs": [],
   "source": [
    "#bu daha iyi çalışıyor"
   ]
  },
  {
   "cell_type": "code",
   "execution_count": null,
   "metadata": {},
   "outputs": [],
   "source": [
    "is_2011=df[\"year\"]==2011\n",
    "is_2011.head()"
   ]
  },
  {
   "cell_type": "code",
   "execution_count": null,
   "metadata": {},
   "outputs": [],
   "source": [
    "#df = df[\"international_students\"].fillna(value=df[\"international_students\"].mean())"
   ]
  },
  {
   "cell_type": "code",
   "execution_count": null,
   "metadata": {},
   "outputs": [],
   "source": [
    "df['international_students'] = df['international_students'].str.rstrip('%').astype('float') / 100.0\n"
   ]
  },
  {
   "cell_type": "code",
   "execution_count": null,
   "metadata": {},
   "outputs": [],
   "source": [
    "df[\"international_students\"].isnull().sum()"
   ]
  },
  {
   "cell_type": "code",
   "execution_count": null,
   "metadata": {},
   "outputs": [],
   "source": [
    "df[\"international_students\"] = df[\"international_students\"].fillna(value=df[\"international_students\"].mean())"
   ]
  },
  {
   "cell_type": "code",
   "execution_count": null,
   "metadata": {},
   "outputs": [],
   "source": [
    "#df[\"international_students\"] = df[\"international_students\"].fillna(value=df[\"international_students\"].mean())"
   ]
  },
  {
   "cell_type": "code",
   "execution_count": null,
   "metadata": {},
   "outputs": [],
   "source": [
    "df[\"international_students\"].isnull().sum()"
   ]
  },
  {
   "cell_type": "code",
   "execution_count": null,
   "metadata": {},
   "outputs": [],
   "source": [
    "#Şu anda df[\"international_students\"] içindeki bütün null değerler 0"
   ]
  },
  {
   "cell_type": "code",
   "execution_count": null,
   "metadata": {},
   "outputs": [],
   "source": [
    "df[df[\"country\"]==\"Turkey\"][\"international_students\"].mean()\n"
   ]
  },
  {
   "cell_type": "code",
   "execution_count": null,
   "metadata": {},
   "outputs": [],
   "source": [
    "df[df[\"country\"]==\"Turkey\"][\"international_students\"].min()\n"
   ]
  },
  {
   "cell_type": "code",
   "execution_count": null,
   "metadata": {},
   "outputs": [],
   "source": [
    "df[df[\"country\"]==\"Turkey\"][\"international_students\"].max()\n",
    "#En fazla olan"
   ]
  },
  {
   "cell_type": "code",
   "execution_count": null,
   "metadata": {},
   "outputs": [],
   "source": [
    "#Listedeki türkiyedeki okulların yabancı öğrenci oranı ortalaması %7"
   ]
  },
  {
   "cell_type": "code",
   "execution_count": null,
   "metadata": {},
   "outputs": [],
   "source": [
    "df[df[\"country\"]==\"Turkey\"]"
   ]
  },
  {
   "cell_type": "code",
   "execution_count": null,
   "metadata": {},
   "outputs": [],
   "source": [
    "df[df[\"country\"]==\"Turkey\"][\"international_students\"].plot.barh();"
   ]
  },
  {
   "cell_type": "code",
   "execution_count": null,
   "metadata": {},
   "outputs": [],
   "source": [
    "sns.barplot(x= \"university_name\",y =\"international_students\" , data=df[df[\"country\"]==\"Turkey\"])"
   ]
  },
  {
   "cell_type": "code",
   "execution_count": null,
   "metadata": {},
   "outputs": [],
   "source": [
    "sns.barplot(x= \"university_name\",y =\"international_students\" , data=df[df[\"country\"]==\"United States of America\"])"
   ]
  },
  {
   "cell_type": "code",
   "execution_count": null,
   "metadata": {},
   "outputs": [],
   "source": [
    "#df[\"international\"] = df[\"international\"].replace(['-'],0)\n"
   ]
  },
  {
   "cell_type": "code",
   "execution_count": null,
   "metadata": {},
   "outputs": [],
   "source": [
    "#df[df[\"country\"]==\"Turkey\"][\"international\"].mean()\n",
    "#df[\"international\"] = df[\"international\"].replace(['-'],0)\n"
   ]
  },
  {
   "cell_type": "code",
   "execution_count": null,
   "metadata": {},
   "outputs": [],
   "source": [
    "df.dtypes"
   ]
  },
  {
   "cell_type": "code",
   "execution_count": null,
   "metadata": {},
   "outputs": [],
   "source": [
    "f,ax = plt.subplots(figsize=(15,15))\n",
    "sns.heatmap(df.corr(),annot=True,linewidths=5,fmt=\".2f\",ax=ax)\n",
    "plt.show()"
   ]
  },
  {
   "cell_type": "code",
   "execution_count": null,
   "metadata": {},
   "outputs": [],
   "source": [
    "#df2 yok onu bul"
   ]
  },
  {
   "cell_type": "code",
   "execution_count": null,
   "metadata": {},
   "outputs": [],
   "source": [
    "#df2[\"country\"].value_counts()"
   ]
  },
  {
   "cell_type": "code",
   "execution_count": null,
   "metadata": {},
   "outputs": [],
   "source": [
    "#listedeki türk üniversiteler"
   ]
  },
  {
   "cell_type": "code",
   "execution_count": null,
   "metadata": {},
   "outputs": [],
   "source": [
    "#df2[df2[\"country\"]==\"Turkey\"].loc[:,\"institution\":\"national_rank\"] \n"
   ]
  },
  {
   "cell_type": "code",
   "execution_count": null,
   "metadata": {},
   "outputs": [],
   "source": [
    "df3=df[df[\"country\"]==\"Turkey\"]\n",
    "trace1 = go.Bar(\n",
    "                x = df3.university_name,\n",
    "                y = df3.citations,\n",
    "                name = \"citations\",\n",
    "                marker = dict(color = 'red',\n",
    "                             line=dict(color='black')),\n",
    "                text = df3.country)\n",
    "trace2 = go.Bar(\n",
    "                x = df3.university_name,\n",
    "                y = df3.income,\n",
    "                name = \"income\",\n",
    "                marker = dict(color = 'yellow',\n",
    "                              line=dict(color='black')),\n",
    "                text = df3.country)\n",
    "data=[trace1, trace2]\n",
    "layout = go.Layout(barmode = \"group\")\n",
    "\n",
    "fig = go.Figure(data = data, layout = layout)\n",
    "iplot(fig)"
   ]
  },
  {
   "cell_type": "code",
   "execution_count": null,
   "metadata": {},
   "outputs": [],
   "source": [
    "np"
   ]
  },
  {
   "cell_type": "code",
   "execution_count": null,
   "metadata": {},
   "outputs": [],
   "source": [
    "pd"
   ]
  },
  {
   "cell_type": "code",
   "execution_count": null,
   "metadata": {},
   "outputs": [],
   "source": [
    "sns"
   ]
  },
  {
   "cell_type": "code",
   "execution_count": null,
   "metadata": {},
   "outputs": [],
   "source": [
    "#conda install -c conda-forge/label/cf202003 ffmpeg\n"
   ]
  },
  {
   "cell_type": "code",
   "execution_count": null,
   "metadata": {},
   "outputs": [],
   "source": [
    "import sklearn\n",
    "sklearn"
   ]
  },
  {
   "cell_type": "code",
   "execution_count": null,
   "metadata": {},
   "outputs": [],
   "source": [
    "wordcloud"
   ]
  },
  {
   "cell_type": "code",
   "execution_count": null,
   "metadata": {},
   "outputs": [],
   "source": [
    "import ffmpeg\n",
    "ffmpeg"
   ]
  },
  {
   "cell_type": "code",
   "execution_count": null,
   "metadata": {},
   "outputs": [],
   "source": []
  }
 ],
 "metadata": {
  "kernelspec": {
   "display_name": "Python (env2)",
   "language": "python",
   "name": "env2"
  },
  "language_info": {
   "codemirror_mode": {
    "name": "ipython",
    "version": 3
   },
   "file_extension": ".py",
   "mimetype": "text/x-python",
   "name": "python",
   "nbconvert_exporter": "python",
   "pygments_lexer": "ipython3",
   "version": "3.6.11"
  }
 },
 "nbformat": 4,
 "nbformat_minor": 4
}
